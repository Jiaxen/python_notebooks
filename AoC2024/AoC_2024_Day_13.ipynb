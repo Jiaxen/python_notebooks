{
 "cells": [
  {
   "cell_type": "markdown",
   "id": "fd684630-1ecb-4c7d-8bab-9cd7585f4881",
   "metadata": {},
   "source": [
    "# AoC 2024 Day 13\n",
    "https://adventofcode.com/2024/day/13"
   ]
  },
  {
   "cell_type": "code",
   "execution_count": 69,
   "id": "f86b3bd4-5eb7-4b2a-a145-5b14b6a38f2a",
   "metadata": {},
   "outputs": [],
   "source": [
    "import re\n",
    "import math"
   ]
  },
  {
   "cell_type": "code",
   "execution_count": 103,
   "id": "fecf35bd-bef5-4232-b69d-f2e134957f1c",
   "metadata": {},
   "outputs": [],
   "source": [
    "def parse_input():\n",
    "    with open('data/day13.txt') as f:\n",
    "        data = f.read().split('\\n\\n')\n",
    "    res = []\n",
    "    for row in data:\n",
    "        a = re.search(r'Button A\\: X\\+(\\d+)\\, Y\\+(\\d+)\\nButton B\\: X\\+(\\d+), Y\\+(\\d+)\\nPrize: X\\=(\\d+), Y\\=(\\d+)', row)\n",
    "        res.append(tuple(int(x) for x in (a[1], a[2], a[3], a[4], a[5], a[6])))\n",
    "    return res\n",
    "\n",
    "data = parse_input()"
   ]
  },
  {
   "cell_type": "code",
   "execution_count": 109,
   "id": "e99e5bda-84dd-42fd-87e4-748453af07e8",
   "metadata": {},
   "outputs": [
    {
     "data": {
      "text/plain": [
       "28262"
      ]
     },
     "execution_count": 109,
     "metadata": {},
     "output_type": "execute_result"
    }
   ],
   "source": [
    "def is_int(a):\n",
    "    return abs(a - round(a)) < 0.0001\n",
    "\n",
    "def solve_simul_eqs(nums):\n",
    "    x1,x2,y1,y2,z1,z2 = nums\n",
    "    a = (z1*y2 - z2*y1)/(x1*y2 - x2*y1)\n",
    "    b = z1/y1 - a*x1/y1\n",
    "    if not (is_int(a) and is_int(b)):\n",
    "        return 0\n",
    "    return 3*round(a)+round(b)\n",
    "\n",
    "sum([solve_simul_eqs(row) for row in data])\n"
   ]
  },
  {
   "cell_type": "code",
   "execution_count": 110,
   "id": "2e9c37f9-3f2a-479b-bb5d-7635701f6b32",
   "metadata": {},
   "outputs": [
    {
     "data": {
      "text/plain": [
       "101406661266314"
      ]
     },
     "execution_count": 110,
     "metadata": {},
     "output_type": "execute_result"
    }
   ],
   "source": [
    "def solve_higher_simul_eqs(nums):\n",
    "    x1,x2,y1,y2,z1,z2 = nums\n",
    "    z1 += 10**13\n",
    "    z2 += 10**13\n",
    "    a = (z1*y2 - z2*y1)/(x1*y2 - x2*y1)\n",
    "    b = z1/y1 - a*x1/y1\n",
    "    if not (is_int(a) and is_int(b)):\n",
    "        return 0\n",
    "    return 3*round(a)+round(b)\n",
    "sum([solve_higher_simul_eqs(row) for row in data])"
   ]
  },
  {
   "cell_type": "code",
   "execution_count": null,
   "id": "c40ec73a-e3be-4dfc-9ddd-c778d4750977",
   "metadata": {},
   "outputs": [],
   "source": []
  }
 ],
 "metadata": {
  "kernelspec": {
   "display_name": "Python 3 (ipykernel)",
   "language": "python",
   "name": "python3"
  },
  "language_info": {
   "codemirror_mode": {
    "name": "ipython",
    "version": 3
   },
   "file_extension": ".py",
   "mimetype": "text/x-python",
   "name": "python",
   "nbconvert_exporter": "python",
   "pygments_lexer": "ipython3",
   "version": "3.13.2"
  }
 },
 "nbformat": 4,
 "nbformat_minor": 5
}
