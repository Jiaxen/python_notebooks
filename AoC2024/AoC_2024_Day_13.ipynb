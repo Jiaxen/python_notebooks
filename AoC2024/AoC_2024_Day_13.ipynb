{
 "cells": [
  {
   "cell_type": "markdown",
   "id": "fd684630-1ecb-4c7d-8bab-9cd7585f4881",
   "metadata": {},
   "source": [
    "# AoC 2024 Day 13\n",
    "https://adventofcode.com/2024/day/13"
   ]
  },
  {
   "cell_type": "code",
   "execution_count": 69,
   "id": "f86b3bd4-5eb7-4b2a-a145-5b14b6a38f2a",
   "metadata": {},
   "outputs": [],
   "source": [
    "import re\n",
    "import math"
   ]
  },
  {
   "cell_type": "code",
   "execution_count": 111,
   "id": "fecf35bd-bef5-4232-b69d-f2e134957f1c",
   "metadata": {},
   "outputs": [
    {
     "data": {
      "text/plain": [
       "[(19, 50, 58, 35, 13287, 9100),\n",
       " (74, 22, 13, 46, 5345, 7906),\n",
       " (14, 29, 45, 28, 10893, 4468),\n",
       " (47, 39, 21, 86, 3827, 9073),\n",
       " (57, 13, 19, 43, 10000, 8952),\n",
       " (19, 51, 24, 13, 12091, 18429),\n",
       " (86, 36, 25, 48, 5199, 2364),\n",
       " (11, 37, 69, 24, 8705, 19772),\n",
       " (23, 78, 61, 16, 8392, 11282),\n",
       " (23, 57, 50, 19, 17995, 2381)]"
      ]
     },
     "execution_count": 111,
     "metadata": {},
     "output_type": "execute_result"
    }
   ],
   "source": [
    "def parse_input() -> list[tuple[int, int, int, int, int, int]]:\n",
    "    \"\"\"\n",
    "    Parse the claw machine input data, extracting a list of claw machine setups.\n",
    "    Each claw machine setup is a tuple of six ints representing the button operations and the prize location.\n",
    "    \"\"\"\n",
    "    with open('data/day13.txt') as f:\n",
    "        data = f.read().split('\\n\\n')\n",
    "    res = []\n",
    "    for row in data:\n",
    "        a = re.search(r'Button A\\: X\\+(\\d+)\\, Y\\+(\\d+)\\nButton B\\: X\\+(\\d+), Y\\+(\\d+)\\nPrize: X\\=(\\d+), Y\\=(\\d+)', row)\n",
    "        res.append(tuple(int(x) for x in (a[1], a[2], a[3], a[4], a[5], a[6])))\n",
    "    return res\n",
    "\n",
    "data = parse_input()\n",
    "data[:10]"
   ]
  },
  {
   "cell_type": "code",
   "execution_count": 109,
   "id": "e99e5bda-84dd-42fd-87e4-748453af07e8",
   "metadata": {},
   "outputs": [
    {
     "data": {
      "text/plain": [
       "28262"
      ]
     },
     "execution_count": 109,
     "metadata": {},
     "output_type": "execute_result"
    }
   ],
   "source": [
    "def is_int(a):\n",
    "    return abs(a - round(a)) < 0.0001\n",
    "\n",
    "def claw_machine_cost(nums: tuple[int, int, int, int, int, int]) -> int:\n",
    "    \"\"\"\n",
    "    Find the cost of operating the claw machine based on the input nums.\n",
    "\n",
    "    The ints in the input nums x1,x2,y1,y2,z1,z2 fulfil the simultaneous equations\n",
    "    ax1 + by1 = z1\n",
    "    ax2 + bx2 = z2\n",
    "    And we return the cost which is 3a+b.\n",
    "    If no integer solutions, return 0.\n",
    "    \"\"\"\n",
    "    x1,x2,y1,y2,z1,z2 = nums\n",
    "    a = (z1*y2 - z2*y1)/(x1*y2 - x2*y1)\n",
    "    b = z1/y1 - a*x1/y1\n",
    "    if not (is_int(a) and is_int(b)):\n",
    "        return 0\n",
    "    return 3*round(a)+round(b)\n",
    "\n",
    "sum([claw_machine_cost(row) for row in data])\n"
   ]
  },
  {
   "cell_type": "code",
   "execution_count": 110,
   "id": "2e9c37f9-3f2a-479b-bb5d-7635701f6b32",
   "metadata": {},
   "outputs": [
    {
     "data": {
      "text/plain": [
       "101406661266314"
      ]
     },
     "execution_count": 110,
     "metadata": {},
     "output_type": "execute_result"
    }
   ],
   "source": [
    "def expensive_claw_machine_cost(nums):\n",
    "    \"\"\"\n",
    "    Find the cost of operating the claw machine based on the input nums.\n",
    "\n",
    "    The ints in the input nums x1,x2,y1,y2,z1,z2 fulfil the simultaneous equations\n",
    "    ax1 + by1 = 10^13 + z1\n",
    "    ax2 + bx2 = 10^13 + z2\n",
    "    And we return the cost which is 3a+b.\n",
    "    If no integer solutions, return 0.\n",
    "    \"\"\"\n",
    "    x1,x2,y1,y2,z1,z2 = nums\n",
    "    z1 += 10**13\n",
    "    z2 += 10**13\n",
    "    a = (z1*y2 - z2*y1)/(x1*y2 - x2*y1)\n",
    "    b = z1/y1 - a*x1/y1\n",
    "    if not (is_int(a) and is_int(b)):\n",
    "        return 0\n",
    "    return 3*round(a)+round(b)\n",
    "sum([expensive_claw_machine_cost(row) for row in data])"
   ]
  },
  {
   "cell_type": "code",
   "execution_count": null,
   "id": "c40ec73a-e3be-4dfc-9ddd-c778d4750977",
   "metadata": {},
   "outputs": [],
   "source": []
  }
 ],
 "metadata": {
  "kernelspec": {
   "display_name": "Python 3 (ipykernel)",
   "language": "python",
   "name": "python3"
  },
  "language_info": {
   "codemirror_mode": {
    "name": "ipython",
    "version": 3
   },
   "file_extension": ".py",
   "mimetype": "text/x-python",
   "name": "python",
   "nbconvert_exporter": "python",
   "pygments_lexer": "ipython3",
   "version": "3.13.2"
  }
 },
 "nbformat": 4,
 "nbformat_minor": 5
}
