{
 "cells": [
  {
   "cell_type": "markdown",
   "id": "bd449eed-3935-456a-8c6b-3361354e2d19",
   "metadata": {},
   "source": [
    "# AoC 2024 Day 2"
   ]
  },
  {
   "cell_type": "markdown",
   "id": "7729eef3-f4ba-4660-9ed7-50350ec38b65",
   "metadata": {},
   "source": [
    "https://adventofcode.com/2024/day/2"
   ]
  },
  {
   "cell_type": "markdown",
   "id": "f48a469f-efea-4238-9b4d-90e09a6bc8e3",
   "metadata": {},
   "source": [
    "### Part 1"
   ]
  },
  {
   "cell_type": "code",
   "execution_count": 16,
   "id": "49d8ee72-061f-47d9-9aac-6c39c78ff900",
   "metadata": {},
   "outputs": [
    {
     "name": "stdout",
     "output_type": "stream",
     "text": [
      "[(1, 3, 4, 5, 8, 10, 7), (48, 51, 54, 55, 55), (7, 9, 12, 15, 16, 17, 20, 24), (49, 52, 55, 57, 58, 60, 65), (73, 75, 77, 80, 81, 78, 81, 82)]\n"
     ]
    }
   ],
   "source": [
    "with open(\"data/day2.txt\") as f:\n",
    "    data = f.read()\n",
    "data = data.split('\\n')\n",
    "data = [row.split() for row in data]\n",
    "data = [tuple(int(i) for i in row) for row in data]\n",
    "print(data[:5])"
   ]
  },
  {
   "cell_type": "code",
   "execution_count": 17,
   "id": "6a00b94a-69ae-4f73-ac28-e1f042863690",
   "metadata": {},
   "outputs": [
    {
     "data": {
      "text/plain": [
       "220"
      ]
     },
     "execution_count": 17,
     "metadata": {},
     "output_type": "execute_result"
    }
   ],
   "source": [
    "def is_safe(nums):\n",
    "    \"\"\" Is a list of numbers all increasing or all decreasing, and increments/decrements are between 1 and 3\"\"\"\n",
    "    initial = nums[1] > nums[0]\n",
    "    for i in range(len(nums)-1):\n",
    "        j = i + 1\n",
    "        if not (((nums[j] > nums[i]) == initial) and (1 <= abs(nums[j] - nums[i]) <= 3)):\n",
    "            return False\n",
    "    return True\n",
    "\n",
    "sum(1 for nums in data if is_safe(nums))"
   ]
  },
  {
   "cell_type": "markdown",
   "id": "5ea6fbe4-c6e8-4604-bb0a-f28b33a9deff",
   "metadata": {},
   "source": [
    "### Part 2"
   ]
  },
  {
   "cell_type": "code",
   "execution_count": 21,
   "id": "d52cd65e-9e08-433c-ac69-4424dcd90f44",
   "metadata": {},
   "outputs": [
    {
     "data": {
      "text/plain": [
       "296"
      ]
     },
     "execution_count": 21,
     "metadata": {},
     "output_type": "execute_result"
    }
   ],
   "source": [
    "def is_dampened_safe(nums):\n",
    "    \"\"\" Can the list of numbers become safe if one of the elements is removed\"\"\"\n",
    "    for i in range(len(nums)):\n",
    "        sub_nums = nums[:i] + nums[i+1:]\n",
    "        if is_safe(sub_nums):\n",
    "            return True\n",
    "    return False\n",
    "\n",
    "sum(1 for nums in data if is_dampened_safe(nums))\n"
   ]
  },
  {
   "cell_type": "code",
   "execution_count": null,
   "id": "7bab4790-961c-4abc-83c6-9ac2c00b8a05",
   "metadata": {},
   "outputs": [],
   "source": []
  }
 ],
 "metadata": {
  "kernelspec": {
   "display_name": "Python 3 (ipykernel)",
   "language": "python",
   "name": "python3"
  },
  "language_info": {
   "codemirror_mode": {
    "name": "ipython",
    "version": 3
   },
   "file_extension": ".py",
   "mimetype": "text/x-python",
   "name": "python",
   "nbconvert_exporter": "python",
   "pygments_lexer": "ipython3",
   "version": "3.13.2"
  }
 },
 "nbformat": 4,
 "nbformat_minor": 5
}
