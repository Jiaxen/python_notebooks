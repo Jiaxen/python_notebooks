{
 "cells": [
  {
   "cell_type": "markdown",
   "id": "824cab14-c60c-4d7d-805d-9a828b6b5fb0",
   "metadata": {},
   "source": [
    "# AoC Day 8"
   ]
  },
  {
   "cell_type": "markdown",
   "id": "4e37412f-a4ac-4daa-a983-3c8f898c94b3",
   "metadata": {},
   "source": [
    "https://adventofcode.com/2024/day/8"
   ]
  },
  {
   "cell_type": "code",
   "execution_count": 1,
   "id": "0301f6a9-f190-4d2b-b165-267225cfa742",
   "metadata": {},
   "outputs": [],
   "source": [
    "import collections\n",
    "import copy\n",
    "import typing"
   ]
  },
  {
   "cell_type": "code",
   "execution_count": 2,
   "id": "ddc92f3c-6f38-48d9-9c45-c8f1be0d38c4",
   "metadata": {},
   "outputs": [
    {
     "data": {
      "text/plain": [
       "['.....8............1r.....a....................O...',\n",
       " '.a..............4..q.........................0...9',\n",
       " '....a.........8...................................',\n",
       " '.................D.....................V0.........',\n",
       " '.....d............................................',\n",
       " '.r..........q....................................O',\n",
       " '..................q...........................9...',\n",
       " '..............D..............X..................V.',\n",
       " '........D................X.................0......',\n",
       " '.........8............X...........................',\n",
       " '....................J....................9..0.....',\n",
       " '..a..B............r..W........J...............R..Q',\n",
       " '......WD...q.....1..........Q..............R..V...',\n",
       " '.1W...................u...........................',\n",
       " '..............................u.............R.....',\n",
       " '....B..............d..c..................R........',\n",
       " '.............J..............X............V........',\n",
       " '......1...........................3...............',\n",
       " '......B...........d...................3...........',\n",
       " '............8..J.......u.....3....................']"
      ]
     },
     "execution_count": 2,
     "metadata": {},
     "output_type": "execute_result"
    }
   ],
   "source": [
    "with open('data/day8.txt') as f:\n",
    "    data = f.read().splitlines()\n",
    "\n",
    "data[:20]"
   ]
  },
  {
   "cell_type": "code",
   "execution_count": 3,
   "id": "c7375640-189c-4f40-accb-f48c0492dada",
   "metadata": {},
   "outputs": [],
   "source": [
    "blank = '.'\n",
    "position = tuple[int, int]\n",
    "    \n",
    "\n",
    "def find_antennae(data) -> dict[str, list[position]]:\n",
    "    \"\"\"Returns a dictionary mapping each antenna type to a list of its positions in the data\"\"\"\n",
    "    antenna = collections.defaultdict(list)\n",
    "    for r, row in enumerate(data):\n",
    "        for c, val in enumerate(row):\n",
    "            if val != blank:\n",
    "                antenna[val].append((r,c))\n",
    "    return antenna\n",
    "\n",
    "def get_antinodes(antennae: list[position], antinode_finder: typing.Callable, data) -> set[position]:\n",
    "    \"\"\"Get the total set of antinodes given the input list of antennae of the same kind\"\"\"\n",
    "    antinodes = set()\n",
    "    for i in range(len(antennae)):\n",
    "        for j in range(i+1, len(antennae)):\n",
    "            antinodes.update(antinode_finder(antennae[i], antennae[j], data))\n",
    "    return antinodes\n",
    "\n",
    "def antinode_positions(a1: position, a2: position, data) -> list[position]:\n",
    "    \"\"\"\n",
    "    Returns the locations which are perfectly in line with the two input antennae\n",
    "    and where one of the antennas is twice as far away as the other\n",
    "    \"\"\"\n",
    "    step0 = a2[0] - a1[0]\n",
    "    step1 = a2[1] - a1[1]\n",
    "    antinodes = [(a1[0]-step0, a1[1]-step1), (a2[0]+step0, a2[1]+step1)]\n",
    "    return [a for a in antinodes if in_box(a, data)]\n",
    "\n",
    "def in_box(p: position, data) -> bool:\n",
    "    \"\"\"Returns whether the position is within the data bounds\"\"\"\n",
    "    rows = len(data)\n",
    "    cols = len(data[0])\n",
    "    return 0 <= p[0] < rows and 0 <= p[1] < cols\n",
    "    \n",
    "def get_all_antinodes(data, antinode_finder: typing.Callable=antinode_positions):\n",
    "    \"\"\" \n",
    "    Returns the number of antinodes in the data. \n",
    "    Optionally takes in a function that determines the positions of antinodes given two antennae.\n",
    "    \"\"\"\n",
    "    antennae_map = find_antennae(data)\n",
    "    antinodes = set()\n",
    "    for k, antennae in antennae_map.items():\n",
    "        antinodes |= get_antinodes(antennae, antinode_finder, data)\n",
    "    return len(antinodes)\n",
    "    \n"
   ]
  },
  {
   "cell_type": "code",
   "execution_count": 4,
   "id": "1450f365-abc5-4bd3-9efe-6bcb31674797",
   "metadata": {},
   "outputs": [
    {
     "data": {
      "text/plain": [
       "265"
      ]
     },
     "execution_count": 4,
     "metadata": {},
     "output_type": "execute_result"
    }
   ],
   "source": [
    "get_all_antinodes(data)"
   ]
  },
  {
   "cell_type": "code",
   "execution_count": 5,
   "id": "f4e75d5f-6474-4bc8-a00f-a23a2d453c6d",
   "metadata": {},
   "outputs": [],
   "source": [
    "def resonant_antinode_positions(a1: position, a2: position, data) -> list[position]:\n",
    "    \"\"\"Returns the locations which are perfectly in line with the two input antennae\n",
    "    spaced by the distance between the antennae\"\"\"\n",
    "    step0 = a2[0] - a1[0]\n",
    "    step1 = a2[1] - a1[1]\n",
    "    results = []\n",
    "    current = a1\n",
    "    while in_box(current, data):\n",
    "        results.append(current)\n",
    "        current = (current[0]-step0, current[1]-step1)\n",
    "    current = a2\n",
    "    while in_box(current, data):\n",
    "        results.append(current)\n",
    "        current = (current[0]+step0, current[1]+step1)\n",
    "    return results\n",
    "    "
   ]
  },
  {
   "cell_type": "code",
   "execution_count": 6,
   "id": "8c485660-f9db-4c5b-babb-5e0369176180",
   "metadata": {},
   "outputs": [
    {
     "data": {
      "text/plain": [
       "962"
      ]
     },
     "execution_count": 6,
     "metadata": {},
     "output_type": "execute_result"
    }
   ],
   "source": [
    "get_all_antinodes(data, resonant_antinode_positions)"
   ]
  },
  {
   "cell_type": "code",
   "execution_count": null,
   "id": "3a55f751-4756-41a7-bf3c-ca204a5fee18",
   "metadata": {},
   "outputs": [],
   "source": []
  }
 ],
 "metadata": {
  "kernelspec": {
   "display_name": "Python 3 (ipykernel)",
   "language": "python",
   "name": "python3"
  },
  "language_info": {
   "codemirror_mode": {
    "name": "ipython",
    "version": 3
   },
   "file_extension": ".py",
   "mimetype": "text/x-python",
   "name": "python",
   "nbconvert_exporter": "python",
   "pygments_lexer": "ipython3",
   "version": "3.13.2"
  }
 },
 "nbformat": 4,
 "nbformat_minor": 5
}
