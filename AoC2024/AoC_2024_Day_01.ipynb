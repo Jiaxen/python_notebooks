{
 "cells": [
  {
   "cell_type": "markdown",
   "id": "719b03ce-0768-4861-8c07-8a7f0b642e0b",
   "metadata": {},
   "source": [
    "# AoC Day 1\n",
    "https://adventofcode.com/2024/day/1"
   ]
  },
  {
   "cell_type": "markdown",
   "id": "1e8d3fc6-3727-4c8a-a52c-1a883f2851f9",
   "metadata": {},
   "source": [
    "### Part 1"
   ]
  },
  {
   "cell_type": "code",
   "execution_count": 63,
   "id": "68494d42-7e9e-4815-9a03-8294e36242b9",
   "metadata": {},
   "outputs": [
    {
     "name": "stdout",
     "output_type": "stream",
     "text": [
      "[61087, 31697, 57649, 75864, 27509]\n",
      "[87490, 16584, 82503, 27659, 96436]\n"
     ]
    }
   ],
   "source": [
    "with open(\"data/day1.txt\") as f:\n",
    "    data = f.read()\n",
    "\n",
    "data = data.split('\\n')\n",
    "list1, list2 = zip(*(row.split() for row in data))\n",
    "list1 = [int(x) for x in list1]\n",
    "list2 = [int(x) for x in list2]\n",
    "print(list1[:5])\n",
    "print(list2[:5])"
   ]
  },
  {
   "cell_type": "code",
   "execution_count": 69,
   "id": "540c9328-06c5-40d7-8fc4-a17551f42833",
   "metadata": {},
   "outputs": [
    {
     "data": {
      "text/plain": [
       "1258579"
      ]
     },
     "execution_count": 69,
     "metadata": {},
     "output_type": "execute_result"
    }
   ],
   "source": [
    "def total_distance(list1, list2):\n",
    "    \"\"\" Total distance between elements of lists after sorting \"\"\"\n",
    "    return sum(abs(i-j) for i, j in zip(sorted(list1), sorted(list2)))\n",
    "\n",
    "get_total_distance(list1, list2)"
   ]
  },
  {
   "cell_type": "markdown",
   "id": "a9c8b54b-d092-49e4-91d6-03776b24b3e7",
   "metadata": {},
   "source": [
    "### Part 2"
   ]
  },
  {
   "cell_type": "code",
   "execution_count": 65,
   "id": "929e6ef1-faa2-4b87-b887-dd07cbe70578",
   "metadata": {},
   "outputs": [],
   "source": [
    "from collections import Counter"
   ]
  },
  {
   "cell_type": "code",
   "execution_count": 70,
   "id": "ecb4d49e-03d6-4240-a1d1-515c32287f40",
   "metadata": {},
   "outputs": [],
   "source": [
    "def total_similarity_score(list1, list2):\n",
    "    \"\"\" Sum of each x in list1 multiplied by how many times it appears in list2 \"\"\"\n",
    "    counter1 = Counter(list1)\n",
    "    counter2 = Counter(list2)\n",
    "    \n",
    "    total = 0\n",
    "    for num1, count1 in counter1.items():\n",
    "        total += count1 * num1 * counter2[num1]\n",
    "    return total"
   ]
  },
  {
   "cell_type": "code",
   "execution_count": 71,
   "id": "3e7856ed-9971-4f6b-b576-87f2071f08cd",
   "metadata": {},
   "outputs": [
    {
     "data": {
      "text/plain": [
       "23981443"
      ]
     },
     "execution_count": 71,
     "metadata": {},
     "output_type": "execute_result"
    }
   ],
   "source": [
    "total_similarity_score(list1, list2)"
   ]
  }
 ],
 "metadata": {
  "kernelspec": {
   "display_name": "Python 3 (ipykernel)",
   "language": "python",
   "name": "python3"
  },
  "language_info": {
   "codemirror_mode": {
    "name": "ipython",
    "version": 3
   },
   "file_extension": ".py",
   "mimetype": "text/x-python",
   "name": "python",
   "nbconvert_exporter": "python",
   "pygments_lexer": "ipython3",
   "version": "3.13.2"
  }
 },
 "nbformat": 4,
 "nbformat_minor": 5
}
