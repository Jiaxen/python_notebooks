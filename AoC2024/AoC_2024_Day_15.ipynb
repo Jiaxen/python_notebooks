{
 "cells": [
  {
   "cell_type": "markdown",
   "id": "80e43eb6-f31c-4f3c-be06-3398dae0430f",
   "metadata": {},
   "source": [
    "# AoC 2024 Day 15\n",
    "https://adventofcode.com/2024/day/15"
   ]
  },
  {
   "cell_type": "code",
   "execution_count": 1,
   "id": "c204615c-34fb-470a-b0b1-76361604f2a2",
   "metadata": {},
   "outputs": [],
   "source": [
    "import copy"
   ]
  },
  {
   "cell_type": "code",
   "execution_count": 2,
   "id": "81ad99d5-0742-4089-b7ce-37a2fe14820d",
   "metadata": {},
   "outputs": [],
   "source": [
    "with open('data/day15.txt') as f:\n",
    "    data = f.read()\n",
    "\n",
    "MAP, INSTR = data.split('\\n\\n')\n",
    "MAP = [list(l) for l in MAP.splitlines()]\n",
    "INSTR = INSTR.replace('\\n', '')"
   ]
  },
  {
   "cell_type": "code",
   "execution_count": 3,
   "id": "0234212d-8574-4e6e-87b4-b6394788ad70",
   "metadata": {},
   "outputs": [],
   "source": [
    "BOX = 'O'\n",
    "WALL = '#'\n",
    "ROBOT = '@'\n",
    "FREE = '.'\n",
    "LEFT = '<'\n",
    "RIGHT = '>'\n",
    "UP = '^'\n",
    "DOWN = 'v'\n",
    "DIRS = {LEFT: (0,-1), RIGHT: (0,1), UP: (-1,0), DOWN: (1,0)}"
   ]
  },
  {
   "cell_type": "code",
   "execution_count": 4,
   "id": "b41c653a-4d27-4058-b010-16d866b0d4f1",
   "metadata": {},
   "outputs": [
    {
     "name": "stdout",
     "output_type": "stream",
     "text": [
      "1429911\n"
     ]
    }
   ],
   "source": [
    "def find_robot(map_data):\n",
    "    for i, row in enumerate(map_data):\n",
    "        for j, val in enumerate(row):\n",
    "            if val == ROBOT:\n",
    "                return i,j\n",
    "                \n",
    "def shift(pos_list, map_data, direction):\n",
    "    # Set initial robot space to be free\n",
    "    oi, oj = pos_list[0]\n",
    "    map_data[oi][oj] = FREE\n",
    "\n",
    "    # Move the robot\n",
    "    di, dj = DIRS[direction]\n",
    "    map_data[oi+di][oj+dj] = ROBOT \n",
    "\n",
    "    # If there were boxes, shift all the boxes (effectively adding one box to the end)\n",
    "    if len(pos_list) > 1:\n",
    "        fi, fj = pos_list[-1]\n",
    "        map_data[fi+di][fj+dj] = BOX\n",
    "\n",
    "    return map_data, (oi+di, oj+dj)\n",
    "        \n",
    "\n",
    "def move_robot(pos, map_data, direction):\n",
    "    curr = pos\n",
    "    dr, dc = DIRS[direction]\n",
    "    to_be_shifted = []\n",
    "    while map_data[curr[0]][curr[1]] != WALL:\n",
    "        r,c = curr\n",
    "        if map_data[r][c] == FREE:\n",
    "            return shift(to_be_shifted, map_data, direction)\n",
    "        to_be_shifted.append(curr)\n",
    "        curr = (r+dr, c+dc)\n",
    "    return map_data, pos\n",
    "\n",
    "def sum_box_values(map_data):\n",
    "    total = 0\n",
    "    for i in range(len(map_data)):\n",
    "        for j in range(len(map_data[0])):\n",
    "            if map_data[i][j] == BOX:\n",
    "                total += 100*i + j\n",
    "    return total\n",
    "\n",
    "def simulate():\n",
    "    map_data = copy.deepcopy(MAP)\n",
    "    pos = find_robot(map_data)\n",
    "    for i in INSTR:\n",
    "        map_data, pos = move_robot(pos, map_data, i)\n",
    "    return sum_box_values(map_data)\n",
    "\n",
    "print(simulate())"
   ]
  },
  {
   "cell_type": "markdown",
   "id": "57cc7da9-b066-4063-8008-99eebd4b340c",
   "metadata": {},
   "source": [
    "## Part 2"
   ]
  },
  {
   "cell_type": "code",
   "execution_count": 7,
   "id": "51ab2d1a-f307-4d1c-bb2b-68a16a663e81",
   "metadata": {},
   "outputs": [
    {
     "name": "stdout",
     "output_type": "stream",
     "text": [
      "1453087\n"
     ]
    }
   ],
   "source": [
    "DBOX = '[]'\n",
    "DWALL = '##'\n",
    "DROBOT = '@.'\n",
    "DFREE = '..'\n",
    "\n",
    "def make_double_wide(data):\n",
    "    return data.replace(BOX, DBOX).replace(WALL, DWALL).replace(FREE, DFREE).replace(ROBOT, DROBOT)\n",
    "\n",
    "def shift_double(pos_list, map_data, direction):\n",
    "    map_data_o = copy.deepcopy(map_data)\n",
    "    dr, dc = DIRS[direction]\n",
    "    oi, oj = pos_list[0]\n",
    "    new_pos = [(r+dr,c+dc) for r,c in pos_list]\n",
    "    new_pos_set = set(new_pos)\n",
    "    for (r, c),(r2,c2) in zip(pos_list, new_pos):\n",
    "        map_data[r2][c2] = map_data_o[r][c]\n",
    "        if (r,c) not in new_pos_set:\n",
    "            map_data[r][c] = FREE\n",
    "    return map_data, (oi+dr, oj+dc)\n",
    "\n",
    "def horizontal_move(pos, map_data, direction):\n",
    "    dr, dc = DIRS[direction]\n",
    "    to_be_shifted = []\n",
    "    curr = pos\n",
    "    while map_data[curr[0]][curr[1]] != WALL:\n",
    "        r,c = curr\n",
    "        if map_data[r][c] == FREE:\n",
    "            return shift_double(to_be_shifted, map_data, direction)\n",
    "        to_be_shifted.append(curr)\n",
    "        curr = (r+dr, c+dc)\n",
    "    return map_data, pos\n",
    "\n",
    "def vertical_move(pos, map_data, direction):\n",
    "    dr, dc = DIRS[direction]\n",
    "    ir, ic = (pos[0]+dr, pos[1]+dc)\n",
    "    curr = [(ir,ic)]\n",
    "    if map_data[ir][ic] == DBOX[0]:\n",
    "        curr.append((ir,ic+1))\n",
    "    if map_data[ir][ic] == DBOX[1]:\n",
    "        curr.append((ir, ic-1))\n",
    "    to_be_shifted = [pos]\n",
    "    while all(map_data[r][c] != WALL for r,c in curr):\n",
    "        if all(map_data[r][c] == FREE for r,c in curr):\n",
    "            return shift_double(to_be_shifted, map_data, direction)\n",
    "        layer_shift = []\n",
    "        for r,c in curr:\n",
    "            if map_data[r][c] == DBOX[0]:\n",
    "                layer_shift.extend([(r,c), (r,c+1)])\n",
    "            elif map_data[r][c] == DBOX[1]:\n",
    "                layer_shift.extend([(r,c-1), (r,c)])\n",
    "            elif map_data[r][c] == ROBOT:\n",
    "                layer_shift.append((r,c))\n",
    "        to_be_shifted.extend(layer_shift)\n",
    "        curr = set((r+dr, c+dc) for r,c in layer_shift)\n",
    "        adjacent = set()\n",
    "        for r, c in curr:\n",
    "            if map_data[r][c] == DBOX[0]:\n",
    "                adjacent.add((r,c+1))\n",
    "            if map_data[r][c] == DBOX[1]:\n",
    "                adjacent.add((r, c-1))\n",
    "        curr |= adjacent\n",
    "    return map_data, pos\n",
    "\n",
    "def move_robot_double(pos, map_data, direction):\n",
    "    if direction in (LEFT, RIGHT):\n",
    "        return horizontal_move(pos, map_data, direction)\n",
    "    else:\n",
    "        return vertical_move(pos, map_data, direction)\n",
    "    \n",
    "\n",
    "def simulate_double():\n",
    "    DMAP = make_double_wide(data.split('\\n\\n')[0])\n",
    "    DMAP = [list(l) for l in DMAP.splitlines()]\n",
    "    map_data = copy.deepcopy(DMAP)\n",
    "    pos = find_robot(map_data)\n",
    "    # for r in map_data:\n",
    "    #     print(r)\n",
    "    for i in INSTR:\n",
    "        map_data, pos = move_robot_double(pos, map_data, i)\n",
    "        # print(i)\n",
    "        # for r in map_data:\n",
    "        #     print(r)\n",
    "    return sum_box_values_double(map_data)\n",
    "\n",
    "def sum_box_values_double(map_data):\n",
    "    total = 0\n",
    "    for i in range(len(map_data)):\n",
    "        for j in range(len(map_data[0])):\n",
    "            if map_data[i][j] == DBOX[0]:\n",
    "                total += 100*i + j\n",
    "    return total\n",
    "\n",
    "print(simulate_double())\n",
    "\n"
   ]
  },
  {
   "cell_type": "code",
   "execution_count": null,
   "id": "5da6eae6-de4c-42ea-bef5-e69329b34e12",
   "metadata": {},
   "outputs": [],
   "source": []
  },
  {
   "cell_type": "code",
   "execution_count": null,
   "id": "5e0e34e2-a0f3-4dcc-8d91-deed7c3a3585",
   "metadata": {},
   "outputs": [],
   "source": []
  }
 ],
 "metadata": {
  "kernelspec": {
   "display_name": "Python 3 (ipykernel)",
   "language": "python",
   "name": "python3"
  },
  "language_info": {
   "codemirror_mode": {
    "name": "ipython",
    "version": 3
   },
   "file_extension": ".py",
   "mimetype": "text/x-python",
   "name": "python",
   "nbconvert_exporter": "python",
   "pygments_lexer": "ipython3",
   "version": "3.13.2"
  }
 },
 "nbformat": 4,
 "nbformat_minor": 5
}
