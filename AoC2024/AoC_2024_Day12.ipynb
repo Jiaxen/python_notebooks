{
 "cells": [
  {
   "cell_type": "markdown",
   "id": "77a100a4-f83b-43bc-8f28-c40ad8f73d89",
   "metadata": {},
   "source": [
    "# AoC 2024 Day 12\n",
    "https://adventofcode.com/2024/day/12"
   ]
  },
  {
   "cell_type": "code",
   "execution_count": 2,
   "id": "526b81af-da47-4db9-b667-604e7a8d6ddc",
   "metadata": {},
   "outputs": [],
   "source": [
    "from collections import defaultdict, deque"
   ]
  },
  {
   "cell_type": "code",
   "execution_count": 3,
   "id": "8a7946e8-273f-48d9-8182-cd661cfdf1e0",
   "metadata": {},
   "outputs": [],
   "source": [
    "with open('data/day12.txt') as f:\n",
    "    data = f.read().split()"
   ]
  },
  {
   "cell_type": "code",
   "execution_count": 4,
   "id": "8da243d9-2efc-4fd7-8f8d-e3f2fa9e6367",
   "metadata": {},
   "outputs": [
    {
     "data": {
      "text/plain": [
       "1449902"
      ]
     },
     "execution_count": 4,
     "metadata": {},
     "output_type": "execute_result"
    }
   ],
   "source": [
    "A = 'A'  # across \n",
    "D = 'D'  # down\n",
    "ADJACENTS = ((1,0), (0,1), (-1,0), (0, -1))\n",
    "\n",
    "def in_box(i, j, rows, cols):\n",
    "    return 0 <= i < rows and 0 <= j < cols\n",
    "\n",
    "def get_val_suffixed(val, letter_map):\n",
    "    suffix = 1\n",
    "    new_val = val + str(suffix)\n",
    "    while new_val in letter_map:\n",
    "        suffix += 1\n",
    "        new_val = val + str(suffix)\n",
    "    return new_val\n",
    "\n",
    "def get_letter_map(data) -> dict[list[tuple[int, int]]]:\n",
    "    letter_map = defaultdict(set)\n",
    "    mapped = set()\n",
    "    rows = len(data)\n",
    "    cols = len(data[0])\n",
    "    for i, row in enumerate(data):\n",
    "        for j, val in enumerate(row):\n",
    "            if (i,j) in mapped:\n",
    "                continue\n",
    "            val_suffixed = get_val_suffixed(val, letter_map)\n",
    "            queue = deque()\n",
    "            seen = set()\n",
    "            queue.append((i,j))\n",
    "            seen.add((i,j))\n",
    "            while queue:\n",
    "                ci, cj = queue.popleft()\n",
    "                if data[ci][cj] == val:\n",
    "                    letter_map[val_suffixed].add((ci, cj))\n",
    "                    mapped.add((ci, cj))\n",
    "                    new = [(ci+di, cj+dj) for di, dj in ADJACENTS \n",
    "                                  if in_box(ci+di, cj+dj, rows, cols) \n",
    "                                  and (ci+di, cj+dj) not in mapped\n",
    "                                  and (ci+di, cj+dj) not in seen\n",
    "                                  and data[ci+di][cj+dj] == val]\n",
    "                    seen.update(new)\n",
    "                    queue.extend(new)\n",
    "    return letter_map\n",
    "\n",
    "def get_perimeter(positions: list[tuple[int, int]]) -> set:\n",
    "    all_perimeter_blocks = set()\n",
    "    for i, j in positions:\n",
    "        perimeter_blocks = set([(i, j, A), (i, j, D), (i+1, j, A), (i, j+1, D)])\n",
    "        all_perimeter_blocks = all_perimeter_blocks.symmetric_difference(perimeter_blocks)\n",
    "    return all_perimeter_blocks\n",
    "\n",
    "def get_price(data):\n",
    "    letter_map = get_letter_map(data)\n",
    "    price = 0\n",
    "    for letter, positions in letter_map.items():\n",
    "        price += len(positions)*len(get_perimeter(positions))\n",
    "    return price\n",
    "\n",
    "get_price(data)"
   ]
  },
  {
   "cell_type": "code",
   "execution_count": 11,
   "id": "38eca4e7-722d-429f-a99e-e61dd8168517",
   "metadata": {},
   "outputs": [
    {
     "data": {
      "text/plain": [
       "908042"
      ]
     },
     "execution_count": 11,
     "metadata": {},
     "output_type": "execute_result"
    }
   ],
   "source": [
    "def get_number_of_perimeter_sides(positions: list[tuple[int, int]]) -> int:\n",
    "    perimeter_blocks = get_perimeter(positions)\n",
    "    across_fences = sorted([f for f in perimeter_blocks if f[2] == A])\n",
    "    down_fences = sorted([f for f in perimeter_blocks if f[2] == D], key=lambda x: (x[1], x[0]))\n",
    "    # print(across_fences)\n",
    "    # print(down_fences)\n",
    "    sides = 1\n",
    "    for i in range(1, len(across_fences)):\n",
    "        curr = across_fences[i]\n",
    "        prev = across_fences[i-1]\n",
    "        # print(prev)\n",
    "        if not are_neighbours(curr, prev, perimeter_blocks):\n",
    "            sides += 1\n",
    "            # print('split')\n",
    "    sides += 1\n",
    "    for i in range(1, len(down_fences)):\n",
    "        curr = down_fences[i]\n",
    "        prev = down_fences[i-1]\n",
    "        # print(prev)\n",
    "        if not are_neighbours(curr, prev, perimeter_blocks):\n",
    "            sides += 1\n",
    "            # print('split')\n",
    "    return sides\n",
    "\n",
    "def are_neighbours(f1, f2, perimeter_blocks):\n",
    "    if f1 > f2:\n",
    "        f1, f2 = f2, f1\n",
    "    if f1[2] == f2[2] == A:\n",
    "        return f1[0] == f2[0] and abs(f1[1] - f2[1]) == 1 and (f2[0]-1, f2[1], D) not in perimeter_blocks\n",
    "    elif f1[2] == f2[2] == D:\n",
    "        return f1[1] == f2[1] and abs(f1[0] - f2[0]) == 1 and (f2[0], f2[1]-1, A) not in perimeter_blocks\n",
    "    else:\n",
    "        return False\n",
    "        \n",
    "\n",
    "def get_discounted_price(data):\n",
    "    letter_map = get_letter_map(data)\n",
    "    price = 0\n",
    "    for letter, positions in letter_map.items():\n",
    "        # if letter != 'K3':\n",
    "            # continue\n",
    "        n = get_number_of_perimeter_sides(positions)\n",
    "        # print(letter, len(positions), n)\n",
    "        price += len(positions)*n\n",
    "    return price\n",
    "get_discounted_price(data)"
   ]
  },
  {
   "cell_type": "code",
   "execution_count": null,
   "id": "7109806f-7ab7-4c2b-8b1b-a8d053ea380e",
   "metadata": {},
   "outputs": [],
   "source": []
  }
 ],
 "metadata": {
  "kernelspec": {
   "display_name": "Python 3 (ipykernel)",
   "language": "python",
   "name": "python3"
  },
  "language_info": {
   "codemirror_mode": {
    "name": "ipython",
    "version": 3
   },
   "file_extension": ".py",
   "mimetype": "text/x-python",
   "name": "python",
   "nbconvert_exporter": "python",
   "pygments_lexer": "ipython3",
   "version": "3.13.2"
  }
 },
 "nbformat": 4,
 "nbformat_minor": 5
}
