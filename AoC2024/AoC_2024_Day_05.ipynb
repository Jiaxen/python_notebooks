{
 "cells": [
  {
   "cell_type": "markdown",
   "id": "34f3733e-b53a-417d-b51f-a4a2d6d9ff61",
   "metadata": {},
   "source": [
    "# AoC 2024 Day 5\n",
    "https://adventofcode.com/2024/day/5"
   ]
  },
  {
   "cell_type": "markdown",
   "id": "0bc52e21-66e4-4858-84c8-6171ea649c80",
   "metadata": {},
   "source": [
    "### Part 1"
   ]
  },
  {
   "cell_type": "code",
   "execution_count": 161,
   "id": "a23f0b63-ff49-403b-9d8c-2bce5932bf65",
   "metadata": {},
   "outputs": [],
   "source": [
    "import itertools"
   ]
  },
  {
   "cell_type": "code",
   "execution_count": 162,
   "id": "e0a5a1e3-4724-4e28-8bf4-50fedb63c7aa",
   "metadata": {},
   "outputs": [],
   "source": [
    "with open('data/day5.txt') as f:\n",
    "    data = f.read()\n",
    "section1, section2 = data.split('\\n\\n')"
   ]
  },
  {
   "cell_type": "code",
   "execution_count": 163,
   "id": "87e67e8d-3c9a-40c5-a483-c2fd4f6c8405",
   "metadata": {},
   "outputs": [
    {
     "name": "stdout",
     "output_type": "stream",
     "text": [
      "[(36, 53), (67, 68), (36, 62), (47, 62), (67, 77)]\n"
     ]
    }
   ],
   "source": [
    "page_order_rules = set()\n",
    "for line in section1.split('\\n'):\n",
    "    pair = line.split('|')\n",
    "    page_order_rules.add((int(pair[0]), int(pair[1])))\n",
    "print(list(page_order_rules)[:5])"
   ]
  },
  {
   "cell_type": "code",
   "execution_count": 164,
   "id": "1f49083e-50b6-4274-9bb3-96cce69ccdb2",
   "metadata": {},
   "outputs": [
    {
     "name": "stdout",
     "output_type": "stream",
     "text": [
      "((46, 51, 67, 25, 72, 77, 13, 96, 36, 76, 52, 23, 65, 81, 68, 73, 85, 75, 11, 54, 21, 27, 28), (68, 73, 85, 75, 11, 54, 21, 28, 31, 19, 57, 69, 56, 48, 92, 83, 99, 24, 61, 18, 39), (83, 99, 24, 61, 63, 32, 94, 35, 47, 82, 14, 45, 33, 46, 51, 67, 25, 72, 77, 13, 96), (19, 81, 75, 36, 27, 96, 11), (75, 11, 54, 21, 28, 31, 98, 19, 56, 92, 83, 99, 24, 18, 63, 32, 94))\n"
     ]
    }
   ],
   "source": [
    "printed_pages = tuple(tuple(int(i) for i in page.split(',')) for page in section2.split())\n",
    "print(printed_pages[:5])"
   ]
  },
  {
   "cell_type": "code",
   "execution_count": 165,
   "id": "35246215-fa6a-48ac-b8be-9b2ab1bdf9e0",
   "metadata": {},
   "outputs": [],
   "source": [
    "def get_correctly_sorted_middles(page_order_rules: set[tuple[int, int]], list_of_pages: tuple[tuple[int]]) -> int:\n",
    "    \"\"\"Return the sum of the middle page numbers of the pages that are correctly sorted according to the page_order_rules\"\"\"\n",
    "    return sum(middle(pages) for pages in list_of_pages if correctly_sorted(page_order_rules, pages))\n",
    "\n",
    "def middle(pages: tuple[int]):\n",
    "    \"\"\"Get middle page\"\"\"\n",
    "    return pages[len(pages)//2]\n",
    "\n",
    "def correctly_sorted(page_order_rules: set[tuple[int, int]], pages: tuple[int]) -> bool:\n",
    "    \"\"\"Return whether the page is sorted according to the page_order_rules\"\"\"\n",
    "    return not any((k, j) in page_order_rules for j, k in itertools.combinations(pages, 2))"
   ]
  },
  {
   "cell_type": "code",
   "execution_count": 166,
   "id": "55953a2c-cdcf-4cd0-bb38-e5f6b10dde07",
   "metadata": {},
   "outputs": [
    {
     "data": {
      "text/plain": [
       "6267"
      ]
     },
     "execution_count": 166,
     "metadata": {},
     "output_type": "execute_result"
    }
   ],
   "source": [
    "get_correctly_sorted_middles(page_order_rules, printed_pages)"
   ]
  },
  {
   "cell_type": "markdown",
   "id": "23353aff-c065-40bf-8e6a-4a4dfa678e1d",
   "metadata": {},
   "source": [
    "### Part 2"
   ]
  },
  {
   "cell_type": "code",
   "execution_count": 168,
   "id": "72a6b536-48b1-4618-b8a9-2022b4f138c6",
   "metadata": {},
   "outputs": [
    {
     "data": {
      "text/plain": [
       "5184"
      ]
     },
     "execution_count": 168,
     "metadata": {},
     "output_type": "execute_result"
    }
   ],
   "source": [
    "def get_fixed_middles(page_order_rules: set[tuple[int, int]], list_of_pages: tuple[tuple[int]]) -> int:\n",
    "    \"\"\"\n",
    "    Return the sum of the middle page numbers of wrongly sorted pages after they are sorted correctly \n",
    "    according to the page_order_rules.\n",
    "    \"\"\"\n",
    "    return sum(middle(fix_pages(pages, page_order_rules)) \n",
    "               for pages in list_of_pages if not correctly_sorted(page_order_rules, pages))\n",
    "    \n",
    "def fix_pages(pages, page_order_rules) -> list:\n",
    "    \"\"\"\n",
    "    Sort the page using the page_order_rules\n",
    "    This implements quicksort - by using the first index as a pivot, we find elements less than the pviot \n",
    "    and sort those, do the same for those greater than the pivot, then arrange the results accordingly.\n",
    "    \"\"\"\n",
    "    if len(pages) <= 1:\n",
    "        return pages\n",
    "    fixed_pages = []\n",
    "    first = pages[0]\n",
    "    previous = [page for page in pages if (page, first) in page_order_rules]\n",
    "    after = [page for page in pages if page not in previous and page != first]\n",
    "    return fix_pages(previous, page_order_rules) + [first] + fix_pages(after, page_order_rules)\n",
    "    \n",
    "get_fixed_middles(page_order_rules, printed_pages)"
   ]
  },
  {
   "cell_type": "code",
   "execution_count": null,
   "id": "fffb6d16-9fee-41ea-9758-5db5cbdc6779",
   "metadata": {},
   "outputs": [],
   "source": []
  }
 ],
 "metadata": {
  "kernelspec": {
   "display_name": "Python 3 (ipykernel)",
   "language": "python",
   "name": "python3"
  },
  "language_info": {
   "codemirror_mode": {
    "name": "ipython",
    "version": 3
   },
   "file_extension": ".py",
   "mimetype": "text/x-python",
   "name": "python",
   "nbconvert_exporter": "python",
   "pygments_lexer": "ipython3",
   "version": "3.13.2"
  }
 },
 "nbformat": 4,
 "nbformat_minor": 5
}
