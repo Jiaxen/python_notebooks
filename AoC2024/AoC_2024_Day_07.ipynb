{
 "cells": [
  {
   "cell_type": "markdown",
   "id": "8df78196-cc49-4bc1-b613-9591209ebc31",
   "metadata": {},
   "source": [
    "# AoC Day 7\n",
    "https://adventofcode.com/2024/day/7"
   ]
  },
  {
   "cell_type": "code",
   "execution_count": 48,
   "id": "1f47fa45-7107-4a43-892e-908cb66a0749",
   "metadata": {},
   "outputs": [],
   "source": [
    "import itertools\n",
    "import copy"
   ]
  },
  {
   "cell_type": "code",
   "execution_count": 63,
   "id": "b77ab37e-98b9-435c-8bcf-ad689e1cb7ad",
   "metadata": {},
   "outputs": [],
   "source": [
    "with open('data/day7.txt') as f:\n",
    "    data = f.read()\n",
    "\n",
    "data = data.splitlines()"
   ]
  },
  {
   "cell_type": "code",
   "execution_count": 64,
   "id": "ced79597-920c-4e3a-9934-cb144f47d3cb",
   "metadata": {},
   "outputs": [
    {
     "data": {
      "text/plain": [
       "['432832280199: 3 286 4 3 17 682 7 7 9 2',\n",
       " '6606690226623: 605 42 3 47 26 6 622',\n",
       " '4920367: 8 8 896 6 4 955 9 44 6 9',\n",
       " '221825533: 124 5 714 905 66 5 33',\n",
       " '1454747930: 632 499 1 23 3']"
      ]
     },
     "execution_count": 64,
     "metadata": {},
     "output_type": "execute_result"
    }
   ],
   "source": [
    "data[:5]"
   ]
  },
  {
   "cell_type": "code",
   "execution_count": 65,
   "id": "c1756374-5cce-40da-9ff0-9a5cd3c0ccf3",
   "metadata": {},
   "outputs": [],
   "source": [
    "def parse_bridge_data(data):\n",
    "    output = []\n",
    "    for line in data:\n",
    "        target, operands = line.split(':')\n",
    "        operands = operands.split()\n",
    "        output.append((int(target), [int(op) for op in operands]))\n",
    "    return output\n",
    "    \n",
    "bridge_data = parse_bridge_data(data)"
   ]
  },
  {
   "cell_type": "code",
   "execution_count": 66,
   "id": "809f8f9e-4a59-4abd-8735-026c9f413e5d",
   "metadata": {},
   "outputs": [
    {
     "data": {
      "text/plain": [
       "[(432832280199, [3, 286, 4, 3, 17, 682, 7, 7, 9, 2]),\n",
       " (6606690226623, [605, 42, 3, 47, 26, 6, 622]),\n",
       " (4920367, [8, 8, 896, 6, 4, 955, 9, 44, 6, 9]),\n",
       " (221825533, [124, 5, 714, 905, 66, 5, 33]),\n",
       " (1454747930, [632, 499, 1, 23, 3])]"
      ]
     },
     "execution_count": 66,
     "metadata": {},
     "output_type": "execute_result"
    }
   ],
   "source": [
    "bridge_data[:5]"
   ]
  },
  {
   "cell_type": "code",
   "execution_count": 67,
   "id": "f2664509-659b-49f8-8017-7fa68716dc5e",
   "metadata": {},
   "outputs": [],
   "source": [
    "def total_calibration_result(bridge_data):\n",
    "    calibration_total = 0\n",
    "    for target, operands in bridge_data:\n",
    "        if operands_make_target(operands, target):\n",
    "            calibration_total += target\n",
    "    return calibration_total\n",
    "         \n",
    "def operands_make_target(operands: list[int], target: int) -> bool:\n",
    "    if len(operands) == 1:\n",
    "        return operands[0] == target\n",
    "    final_number = operands.pop(-1)\n",
    "    quo, rem = divmod(target, final_number)\n",
    "    if rem == 0:\n",
    "        return operands_make_target(copy.copy(operands), quo) or operands_make_target(copy.copy(operands), target-final_number)\n",
    "    return operands_make_target(copy.copy(operands), target-final_number)\n"
   ]
  },
  {
   "cell_type": "code",
   "execution_count": 68,
   "id": "017fc0f8-af77-4309-97ac-50989ac5b549",
   "metadata": {},
   "outputs": [
    {
     "data": {
      "text/plain": [
       "5030892084481"
      ]
     },
     "execution_count": 68,
     "metadata": {},
     "output_type": "execute_result"
    }
   ],
   "source": [
    "total_calibration_result(bridge_data)"
   ]
  },
  {
   "cell_type": "code",
   "execution_count": null,
   "id": "8faab332-17dc-4c8d-8a28-e341523a2408",
   "metadata": {},
   "outputs": [],
   "source": []
  }
 ],
 "metadata": {
  "kernelspec": {
   "display_name": "Python 3 (ipykernel)",
   "language": "python",
   "name": "python3"
  },
  "language_info": {
   "codemirror_mode": {
    "name": "ipython",
    "version": 3
   },
   "file_extension": ".py",
   "mimetype": "text/x-python",
   "name": "python",
   "nbconvert_exporter": "python",
   "pygments_lexer": "ipython3",
   "version": "3.13.2"
  }
 },
 "nbformat": 4,
 "nbformat_minor": 5
}
