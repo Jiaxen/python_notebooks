{
 "cells": [
  {
   "cell_type": "markdown",
   "id": "8df78196-cc49-4bc1-b613-9591209ebc31",
   "metadata": {},
   "source": [
    "# AoC 2024 Day 7\n",
    "https://adventofcode.com/2024/day/7"
   ]
  },
  {
   "cell_type": "code",
   "execution_count": 121,
   "id": "1f47fa45-7107-4a43-892e-908cb66a0749",
   "metadata": {},
   "outputs": [],
   "source": [
    "import itertools\n",
    "import copy\n",
    "import typing\n",
    "import math"
   ]
  },
  {
   "cell_type": "code",
   "execution_count": 122,
   "id": "b77ab37e-98b9-435c-8bcf-ad689e1cb7ad",
   "metadata": {},
   "outputs": [],
   "source": [
    "with open('data/day7.txt') as f:\n",
    "    data = f.read()\n",
    "\n",
    "data = data.splitlines()"
   ]
  },
  {
   "cell_type": "code",
   "execution_count": 123,
   "id": "ced79597-920c-4e3a-9934-cb144f47d3cb",
   "metadata": {},
   "outputs": [
    {
     "data": {
      "text/plain": [
       "['432832280199: 3 286 4 3 17 682 7 7 9 2',\n",
       " '6606690226623: 605 42 3 47 26 6 622',\n",
       " '4920367: 8 8 896 6 4 955 9 44 6 9',\n",
       " '221825533: 124 5 714 905 66 5 33',\n",
       " '1454747930: 632 499 1 23 3']"
      ]
     },
     "execution_count": 123,
     "metadata": {},
     "output_type": "execute_result"
    }
   ],
   "source": [
    "data[:5]"
   ]
  },
  {
   "cell_type": "markdown",
   "id": "4da2e23f-7130-409d-b6e7-469020583a0b",
   "metadata": {},
   "source": [
    "### Part 1"
   ]
  },
  {
   "cell_type": "code",
   "execution_count": 124,
   "id": "c1756374-5cce-40da-9ff0-9a5cd3c0ccf3",
   "metadata": {},
   "outputs": [],
   "source": [
    "def parse_bridge_data(data):\n",
    "    \"\"\"\n",
    "    Parse the bridge data as a string into a list of tuples: List[Tuple(target_num, List[operand])]\n",
    "    where target_num and operand are ints\n",
    "    \"\"\"\n",
    "    output = []\n",
    "    for line in data:\n",
    "        target, operands = line.split(':')\n",
    "        operands = operands.split()\n",
    "        output.append((int(target), [int(op) for op in operands]))\n",
    "    return output\n",
    "    \n",
    "bridge_data = parse_bridge_data(data)"
   ]
  },
  {
   "cell_type": "code",
   "execution_count": 125,
   "id": "809f8f9e-4a59-4abd-8735-026c9f413e5d",
   "metadata": {},
   "outputs": [
    {
     "data": {
      "text/plain": [
       "[(432832280199, [3, 286, 4, 3, 17, 682, 7, 7, 9, 2]),\n",
       " (6606690226623, [605, 42, 3, 47, 26, 6, 622]),\n",
       " (4920367, [8, 8, 896, 6, 4, 955, 9, 44, 6, 9]),\n",
       " (221825533, [124, 5, 714, 905, 66, 5, 33]),\n",
       " (1454747930, [632, 499, 1, 23, 3])]"
      ]
     },
     "execution_count": 125,
     "metadata": {},
     "output_type": "execute_result"
    }
   ],
   "source": [
    "bridge_data[:5]"
   ]
  },
  {
   "cell_type": "code",
   "execution_count": 126,
   "id": "f2664509-659b-49f8-8017-7fa68716dc5e",
   "metadata": {},
   "outputs": [],
   "source": [
    "def total_calibration_result(bridge_data: tuple[int, list[int]]):\n",
    "    \"\"\"\n",
    "    Get the total calibration results which is the sum of the target numbers which can be \n",
    "    created by the operands using multiplication and addition operations going left to right.\n",
    "    \"\"\"\n",
    "    return sum(target for target, operands in copy.deepcopy(bridge_data) if operands_make_target(operands, target))\n",
    "         \n",
    "def operands_make_target(operands: list[int], target: int) -> bool:\n",
    "    \"\"\"\n",
    "    Returns whether the target number can be created with the operands using multiplication \n",
    "    and addition operations going left to right.\n",
    "    \"\"\"\n",
    "    if len(operands) == 1:\n",
    "        return operands[0] == target\n",
    "    final_number = operands.pop(-1)\n",
    "    quo, rem = divmod(target, final_number)\n",
    "    if rem == 0 and operands_make_target(copy.copy(operands), quo):\n",
    "        return True\n",
    "    return operands_make_target(copy.copy(operands), target-final_number)\n"
   ]
  },
  {
   "cell_type": "code",
   "execution_count": 127,
   "id": "017fc0f8-af77-4309-97ac-50989ac5b549",
   "metadata": {},
   "outputs": [
    {
     "data": {
      "text/plain": [
       "5030892084481"
      ]
     },
     "execution_count": 127,
     "metadata": {},
     "output_type": "execute_result"
    }
   ],
   "source": [
    "total_calibration_result(bridge_data)"
   ]
  },
  {
   "cell_type": "markdown",
   "id": "ebae4c40-167a-4703-8c94-47e078d631c2",
   "metadata": {},
   "source": [
    "### Part 2"
   ]
  },
  {
   "cell_type": "code",
   "execution_count": 128,
   "id": "8faab332-17dc-4c8d-8a28-e341523a2408",
   "metadata": {},
   "outputs": [],
   "source": [
    "def same_last_digits(short: int, long: int):\n",
    "    \"\"\"\n",
    "    If the long integer ends with the same numbers and the short integer, then return the front of the long\n",
    "    after trimming off the short integer from the end. Otherwise, return False.\n",
    "    \"\"\"\n",
    "    tens = math.floor(math.log10(short)) + 1\n",
    "    front, back = divmod(long, math.pow(10, tens))\n",
    "    if back == short:\n",
    "        return front\n",
    "    return False\n",
    "    \n",
    "    \n",
    "def operands_make_target_with_concat(operands: list[int], target: int) -> bool:\n",
    "    \"\"\"\n",
    "    Get the total calibration results which is the sum of the target numbers which can be \n",
    "    created by the operands using multiplication, addition, and concatenation operations going left to right.\n",
    "    \"\"\"\n",
    "    if len(operands) == 1:\n",
    "        return operands[0] == target\n",
    "    final_number = operands.pop(-1)\n",
    "    \n",
    "    quo, rem = divmod(target, final_number)\n",
    "    if rem == 0 and operands_make_target_with_concat(copy.copy(operands), quo):\n",
    "        return True\n",
    "    \n",
    "    if (target > final_number) and (new_target := same_last_digits(final_number, target)):\n",
    "        if operands_make_target_with_concat(copy.copy(operands), new_target):\n",
    "            return True\n",
    "    \n",
    "    return operands_make_target_with_concat(copy.copy(operands), target-final_number) \n",
    "\n",
    "\n",
    "def total_calibration_result_with_concat(bridge_data: tuple[int, list[int]]):\n",
    "    return sum(target for target, operands in copy.deepcopy(bridge_data) if operands_make_target_with_concat(operands, target))"
   ]
  },
  {
   "cell_type": "code",
   "execution_count": 129,
   "id": "a3caf679-502d-421a-9495-f101fabe44cb",
   "metadata": {},
   "outputs": [
    {
     "data": {
      "text/plain": [
       "91377448644679"
      ]
     },
     "execution_count": 129,
     "metadata": {},
     "output_type": "execute_result"
    }
   ],
   "source": [
    "total_calibration_result_with_concat(bridge_data)"
   ]
  }
 ],
 "metadata": {
  "kernelspec": {
   "display_name": "Python 3 (ipykernel)",
   "language": "python",
   "name": "python3"
  },
  "language_info": {
   "codemirror_mode": {
    "name": "ipython",
    "version": 3
   },
   "file_extension": ".py",
   "mimetype": "text/x-python",
   "name": "python",
   "nbconvert_exporter": "python",
   "pygments_lexer": "ipython3",
   "version": "3.13.2"
  }
 },
 "nbformat": 4,
 "nbformat_minor": 5
}
