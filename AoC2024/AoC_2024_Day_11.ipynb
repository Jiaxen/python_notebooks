{
 "cells": [
  {
   "cell_type": "markdown",
   "id": "447424b1-f4df-4fac-90bb-6bd6f48be2f6",
   "metadata": {},
   "source": [
    "# AoC Day 11\n",
    "https://adventofcode.com/2024/day/11"
   ]
  },
  {
   "cell_type": "code",
   "execution_count": 1,
   "id": "b533898f-5227-492d-b2bc-9cb9e738fd15",
   "metadata": {},
   "outputs": [],
   "source": [
    "from collections import Counter"
   ]
  },
  {
   "cell_type": "code",
   "execution_count": 2,
   "id": "4add5849-67ff-4c3b-a165-3d611ec9188e",
   "metadata": {},
   "outputs": [
    {
     "data": {
      "text/plain": [
       "['0', '37551', '469', '63', '1', '791606', '2065', '9983586']"
      ]
     },
     "execution_count": 2,
     "metadata": {},
     "output_type": "execute_result"
    }
   ],
   "source": [
    "with open('data/day11.txt') as f:\n",
    "    data = f.read()\n",
    "data = data.split()\n",
    "data"
   ]
  },
  {
   "cell_type": "code",
   "execution_count": 3,
   "id": "4d3aada4-6db0-467a-91b2-c7b37f282e94",
   "metadata": {},
   "outputs": [
    {
     "data": {
      "text/plain": [
       "204022"
      ]
     },
     "execution_count": 3,
     "metadata": {},
     "output_type": "execute_result"
    }
   ],
   "source": [
    "cache = {}\n",
    "def evolve_stone(stone: str) -> list[str]:\n",
    "    \"\"\"\n",
    "    Return the evolved stones given the input stone.\n",
    "    If input is \"0\", output is [\"1\"]\n",
    "    Else if input length is even, then split the stone into two. e.g. \"2401\" -> [\"24\", \"01\"]\n",
    "    Else multiply the stone value by 2024. e.g. \"3\" -> [\"6072\"]\n",
    "    \"\"\"\n",
    "    if stone in cache:\n",
    "        return cache[stone]\n",
    "    elif stone == '0':\n",
    "        cache[stone] = ['1']\n",
    "    elif len(stone) % 2 == 0:\n",
    "        cache[stone] = [str(int(stone[:len(stone)//2])), str(int(stone[len(stone)//2:]))]\n",
    "    else:\n",
    "        cache[stone] = [str(int(stone)*2024)]\n",
    "    return evolve_stone(stone)\n",
    "    \n",
    "\n",
    "def blink(stones: list[str], times: int):\n",
    "    \"Blink a number of times. Each blink, the input stones evolve one step.\"\n",
    "    if times == 0:\n",
    "        return stones\n",
    "    new_stones = []\n",
    "    for stone in stones:\n",
    "        new_stones.extend(evolve_stone(stone))\n",
    "    return blink(new_stones, times-1)\n",
    "\n",
    "len(blink(data, 25))"
   ]
  },
  {
   "cell_type": "code",
   "execution_count": 4,
   "id": "4bd8bccc-7966-4f31-8010-2b4426295dde",
   "metadata": {},
   "outputs": [],
   "source": [
    "def blink_optimised(stones, times):\n",
    "    \"\"\"\n",
    "    Trying to use the naive algorithm above will cause a memory error\n",
    "    because the stones will grow into the trillions which we cannot \n",
    "    store in a list. Instead, noticing that stone order is not actually\n",
    "    important, and that many numbers reccur, we keep the stones in a counter\n",
    "    and evolve the stones in batches instead.\n",
    "    \"\"\"\n",
    "    count_stones = Counter(data)\n",
    "    for _ in range(times):\n",
    "        new_count_stones = Counter()\n",
    "        for stone, count in count_stones.items():\n",
    "            stone_blink = Counter(evolve_stone(stone))\n",
    "            for key in stone_blink:\n",
    "                stone_blink[key] *= count\n",
    "            new_count_stones.update(stone_blink)\n",
    "        count_stones = new_count_stones\n",
    "    return sum(count_stones.values())\n",
    "        "
   ]
  },
  {
   "cell_type": "code",
   "execution_count": 5,
   "id": "095af5b1-75e3-4671-b2ea-060921e9c087",
   "metadata": {},
   "outputs": [
    {
     "data": {
      "text/plain": [
       "204022"
      ]
     },
     "execution_count": 5,
     "metadata": {},
     "output_type": "execute_result"
    }
   ],
   "source": [
    "blink_optimised(data, 25)"
   ]
  },
  {
   "cell_type": "code",
   "execution_count": 6,
   "id": "2410821d-fa18-4c26-842b-385a05fc04a1",
   "metadata": {},
   "outputs": [
    {
     "data": {
      "text/plain": [
       "241651071960597"
      ]
     },
     "execution_count": 6,
     "metadata": {},
     "output_type": "execute_result"
    }
   ],
   "source": [
    "blink_optimised(data, 75)"
   ]
  },
  {
   "cell_type": "code",
   "execution_count": null,
   "id": "44456d8d-4fcb-4308-ae96-4b9449972a2d",
   "metadata": {},
   "outputs": [],
   "source": []
  }
 ],
 "metadata": {
  "kernelspec": {
   "display_name": "Python 3 (ipykernel)",
   "language": "python",
   "name": "python3"
  },
  "language_info": {
   "codemirror_mode": {
    "name": "ipython",
    "version": 3
   },
   "file_extension": ".py",
   "mimetype": "text/x-python",
   "name": "python",
   "nbconvert_exporter": "python",
   "pygments_lexer": "ipython3",
   "version": "3.13.2"
  }
 },
 "nbformat": 4,
 "nbformat_minor": 5
}
