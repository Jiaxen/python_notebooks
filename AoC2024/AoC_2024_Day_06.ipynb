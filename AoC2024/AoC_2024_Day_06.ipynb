{
 "cells": [
  {
   "cell_type": "markdown",
   "id": "c9fedd8f-3f64-48d9-94c1-996257dab788",
   "metadata": {},
   "source": [
    "# AoC Day 6\n",
    "https://adventofcode.com/2024/day/6"
   ]
  },
  {
   "cell_type": "code",
   "execution_count": 4,
   "id": "0d35f8a1-92b7-42a4-a6ba-d666c73d8627",
   "metadata": {},
   "outputs": [],
   "source": [
    "import copy"
   ]
  },
  {
   "cell_type": "code",
   "execution_count": 39,
   "id": "961577f5-8869-45fd-ab46-e8d50f1f9593",
   "metadata": {},
   "outputs": [],
   "source": [
    "with open('data/day6.txt') as f:\n",
    "    data = f.read()\n",
    "\n",
    "data = data.split()"
   ]
  },
  {
   "cell_type": "code",
   "execution_count": 29,
   "id": "e111a33d-530e-4fe6-bf0e-3d0c766545b4",
   "metadata": {},
   "outputs": [],
   "source": [
    "UP = '^'\n",
    "DOWN = 'v'\n",
    "LEFT = '>'\n",
    "RIGHT = '<'\n",
    "OBSTACLE = '#'\n",
    "FREE = '.'\n",
    "DISPLACEMENT = {UP: (-1,0), DOWN: (1,0), RIGHT:(0,1), LEFT:(0,-1)}\n",
    "ROTATION = {UP: RIGHT, RIGHT: DOWN, DOWN: LEFT, LEFT: UP}\n",
    "\n",
    "\n",
    "def trace_guard(data):\n",
    "    position, direction = get_guard_start_position(data)\n",
    "    seen = set()\n",
    "    while position:\n",
    "        seen.add(position) \n",
    "        position, direction = get_next_position(position, direction, data)\n",
    "    return len(seen)\n",
    "    \n",
    "def get_guard_start_position(data):\n",
    "    for r, row in enumerate(data):\n",
    "        for c, val in enumerate(row):\n",
    "            if val in (UP, DOWN, LEFT, RIGHT):\n",
    "                return (r,c), val\n",
    "\n",
    "def get_next_position(position, direction, data):\n",
    "    r, c = position\n",
    "    dr, dc = DISPLACEMENT[direction]\n",
    "    if not in_map(r+dr, c+dc, data):\n",
    "        return None, None  # Exited map\n",
    "    if data[r+dr][c+dc] == OBSTACLE:\n",
    "        return get_next_position((r, c), ROTATION[direction], data)\n",
    "    return (r+dr, c+dc), direction\n",
    "\n",
    "def in_map(r, c, data):\n",
    "    return 0 <= r < len(data) and 0 <= c < len(data[0])\n"
   ]
  },
  {
   "cell_type": "code",
   "execution_count": 30,
   "id": "7283e351-7490-4235-99c8-2c2ac3e7a863",
   "metadata": {},
   "outputs": [
    {
     "data": {
      "text/plain": [
       "5129"
      ]
     },
     "execution_count": 30,
     "metadata": {},
     "output_type": "execute_result"
    }
   ],
   "source": [
    "trace_guard(data)"
   ]
  },
  {
   "cell_type": "code",
   "execution_count": 37,
   "id": "e251f682-6a98-4340-830c-2fad023ac9eb",
   "metadata": {},
   "outputs": [],
   "source": [
    "def is_looped_map(data, position, direction):\n",
    "    seen = set()\n",
    "    while position:\n",
    "        seen.add((position, direction)) \n",
    "        position, direction = get_next_position(position, direction, data)\n",
    "        if (position, direction) in seen:\n",
    "            return True\n",
    "    return False\n",
    "\n",
    "def count_looped_maps(data):\n",
    "    data = [list(row) for row in data]\n",
    "    loops = 0\n",
    "    start_position, start_direction = get_guard_start_position(data)\n",
    "    for r, row in enumerate(data):\n",
    "        for c, val in enumerate(row):\n",
    "            if val == FREE:\n",
    "                data[r][c] = OBSTACLE\n",
    "                loops += is_looped_map(data, start_position, start_direction)\n",
    "                data[r][c] = FREE\n",
    "    return loops"
   ]
  },
  {
   "cell_type": "code",
   "execution_count": 38,
   "id": "b2145463-3040-4c8a-b702-85f948a3a9e6",
   "metadata": {},
   "outputs": [
    {
     "data": {
      "text/plain": [
       "1888"
      ]
     },
     "execution_count": 38,
     "metadata": {},
     "output_type": "execute_result"
    }
   ],
   "source": [
    "count_looped_maps(data)"
   ]
  },
  {
   "cell_type": "markdown",
   "id": "d17a03b3-17eb-4059-bc00-3722bd4979ce",
   "metadata": {},
   "source": [
    "Hmm this took too long. It deserves a more elegant solution"
   ]
  }
 ],
 "metadata": {
  "kernelspec": {
   "display_name": "Python 3 (ipykernel)",
   "language": "python",
   "name": "python3"
  },
  "language_info": {
   "codemirror_mode": {
    "name": "ipython",
    "version": 3
   },
   "file_extension": ".py",
   "mimetype": "text/x-python",
   "name": "python",
   "nbconvert_exporter": "python",
   "pygments_lexer": "ipython3",
   "version": "3.13.2"
  }
 },
 "nbformat": 4,
 "nbformat_minor": 5
}
