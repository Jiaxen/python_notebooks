{
 "cells": [
  {
   "cell_type": "markdown",
   "id": "583bef88-6181-41c0-8e74-e0d4b8cdc1d8",
   "metadata": {},
   "source": [
    "# AoC Day 9\n",
    "https://adventofcode.com/2024/day/9"
   ]
  },
  {
   "cell_type": "code",
   "execution_count": 101,
   "id": "fc915902-bf16-4954-ae96-47c9e3a8ad6e",
   "metadata": {},
   "outputs": [
    {
     "data": {
      "text/plain": [
       "'85513798225626407973273421183735771684666062895140'"
      ]
     },
     "execution_count": 101,
     "metadata": {},
     "output_type": "execute_result"
    }
   ],
   "source": [
    "with open('data/day9.txt') as f:\n",
    "    data = f.read()\n",
    "data[:50]"
   ]
  },
  {
   "cell_type": "code",
   "execution_count": 102,
   "id": "41f07bfa-b1b4-4935-b8fc-7c318b0e0a71",
   "metadata": {},
   "outputs": [],
   "source": [
    "def disk_map_to_blocks(data):\n",
    "    \"\"\"Convert the dense disk map format to a list of file blocks\"\"\"\n",
    "    builder = []\n",
    "    for i, val in enumerate(data):\n",
    "        if i % 2 == 0:\n",
    "            builder.extend([i//2 for _ in range(int(val))])\n",
    "        else:\n",
    "            builder.extend([None for _ in range(int(val))])\n",
    "    return builder\n",
    "\n",
    "def compress_blocks(blocks):\n",
    "    \"\"\"Compress the file blocks by moving file blocks at the end to free space from the beginning\"\"\"\n",
    "    left = 0\n",
    "    while left < len(blocks):\n",
    "        if blocks[left] != None:\n",
    "            left += 1\n",
    "            continue\n",
    "        while blocks[-1] is None:\n",
    "            blocks.pop()\n",
    "        blocks[left] = blocks[-1]\n",
    "        blocks.pop()\n",
    "    return blocks\n",
    "\n",
    "def block_checksum(blocks):\n",
    "    \"\"\"Calculate the checksum of the block\"\"\"\n",
    "    return sum([i*val for i, val in enumerate(blocks) if val is not None])\n"
   ]
  },
  {
   "cell_type": "code",
   "execution_count": 103,
   "id": "129b8a29-6e35-4608-ad07-2b8c51c902b5",
   "metadata": {},
   "outputs": [
    {
     "data": {
      "text/plain": [
       "6225730762521"
      ]
     },
     "execution_count": 103,
     "metadata": {},
     "output_type": "execute_result"
    }
   ],
   "source": [
    "block_checksum(compress_blocks(disk_map_to_blocks(data)))"
   ]
  },
  {
   "cell_type": "code",
   "execution_count": 105,
   "id": "34f8d31e-f4bc-4103-8793-bccf6a7fba25",
   "metadata": {},
   "outputs": [
    {
     "name": "stdout",
     "output_type": "stream",
     "text": [
      "starting\n"
     ]
    },
    {
     "data": {
      "text/plain": [
       "6250605700557"
      ]
     },
     "execution_count": 105,
     "metadata": {},
     "output_type": "execute_result"
    }
   ],
   "source": [
    "def compress_whole_files(blocks):\n",
    "    \"\"\"Compress whole files rather than individual file blocks\"\"\"\n",
    "    left = right = len(blocks)-1\n",
    "    start = blocks.index(None)\n",
    "    print('starting')\n",
    "    while left > start:\n",
    "        while blocks[left] == blocks[right]:\n",
    "            left -= 1\n",
    "        file = blocks[left+1:right+1]\n",
    "        swappable = [None] * len(file)\n",
    "        for i in range(start, left):\n",
    "            if blocks[i:i+len(file)] == swappable:\n",
    "                blocks[i:i+len(file)], blocks[left+1:right+1] = file, swappable\n",
    "                break\n",
    "        right = left\n",
    "        start = blocks.index(None)\n",
    "    return blocks\n",
    "        \n",
    "block_checksum(compress_whole_files(disk_map_to_blocks(data)))"
   ]
  },
  {
   "cell_type": "code",
   "execution_count": null,
   "id": "feded8b8-2ab7-4762-b2e7-147e6e0cdb7e",
   "metadata": {},
   "outputs": [],
   "source": []
  }
 ],
 "metadata": {
  "kernelspec": {
   "display_name": "Python 3 (ipykernel)",
   "language": "python",
   "name": "python3"
  },
  "language_info": {
   "codemirror_mode": {
    "name": "ipython",
    "version": 3
   },
   "file_extension": ".py",
   "mimetype": "text/x-python",
   "name": "python",
   "nbconvert_exporter": "python",
   "pygments_lexer": "ipython3",
   "version": "3.13.2"
  }
 },
 "nbformat": 4,
 "nbformat_minor": 5
}
