{
 "cells": [
  {
   "cell_type": "markdown",
   "id": "ac4f8c1f-0d37-4ac8-85ac-2afeaae594af",
   "metadata": {},
   "source": [
    "# AoC Day 3"
   ]
  },
  {
   "cell_type": "markdown",
   "id": "bd991911-1b2f-4f98-a45f-9f2091493f53",
   "metadata": {},
   "source": [
    "https://adventofcode.com/2024/day/3"
   ]
  },
  {
   "cell_type": "code",
   "execution_count": 45,
   "id": "35436bf7-164e-4332-b8dc-12abe87a4083",
   "metadata": {},
   "outputs": [
    {
     "name": "stdout",
     "output_type": "stream",
     "text": [
      "where(536,162)~'what()what()how(220,399){ mul(5,253);mul(757,101)$where()@why()who()&when()from()mul\n"
     ]
    }
   ],
   "source": [
    "with open(\"data/day3.txt\") as f:\n",
    "    data = f.read()\n",
    "\n",
    "print(data[:100])"
   ]
  },
  {
   "cell_type": "code",
   "execution_count": 46,
   "id": "a51aa2c7-45f4-4902-8f42-db63469b1dc3",
   "metadata": {},
   "outputs": [],
   "source": [
    "import re"
   ]
  },
  {
   "cell_type": "code",
   "execution_count": 47,
   "id": "a068106e-9ba9-4968-8b3d-f1f4a8340c0d",
   "metadata": {},
   "outputs": [],
   "source": [
    "def extract_muls(data: str) -> list[tuple[int,int]]:\n",
    "    \"\"\"Find all x, y appearing as mul(x,y) in the input data\"\"\" \n",
    "    return re.findall(r\"mul\\((\\d+?)\\,(\\d+?)\\)\", data)\n",
    "\n",
    "def get_products(data: str) -> int:\n",
    "    total = 0\n",
    "    muls = extract_muls(data)\n",
    "    for a, b in muls:\n",
    "        total += int(a)* int(b)\n",
    "    return total"
   ]
  },
  {
   "cell_type": "code",
   "execution_count": 48,
   "id": "03db6620-1106-4045-9804-abb14a6bb198",
   "metadata": {},
   "outputs": [
    {
     "data": {
      "text/plain": [
       "156388521"
      ]
     },
     "execution_count": 48,
     "metadata": {},
     "output_type": "execute_result"
    }
   ],
   "source": [
    "get_products(data)"
   ]
  },
  {
   "cell_type": "code",
   "execution_count": 74,
   "id": "ca85d792-0579-4c17-a4c4-064a5ba9cd2f",
   "metadata": {},
   "outputs": [],
   "source": [
    "def remove_unenabled_muls(data: str) -> str:\n",
    "    \"\"\"Returns copy of data with segments between don't() and do() removed \"\"\"\n",
    "    return re.sub(r\"don't\\(\\).*?(do\\(\\)|$)\", \" \", data)\n",
    "\n",
    "def get_enabled_products(data: str) -> int:\n",
    "    data = remove_unenabled_muls(data)\n",
    "    return get_products(data)\n"
   ]
  },
  {
   "cell_type": "code",
   "execution_count": 75,
   "id": "f5ffee13-d2f9-41b7-b9ff-a49e6743bae5",
   "metadata": {},
   "outputs": [
    {
     "data": {
      "text/plain": [
       "\":+/[when()'^mul(272,456)select()@@&[from()why()why()!mul(656,911)^mul(369,320)[%who(918,33)mul(430,762)o()@/how():@mul(327,946)!#when()+mul(484,853)!+?\""
      ]
     },
     "execution_count": 75,
     "metadata": {},
     "output_type": "execute_result"
    }
   ],
   "source": [
    "test_str = \"\"\":+/[when()'^mul(272,456)select()@@&[from()why()why()!mul(656,911)^mul(369,320)[%who(918,33)mul(430,762)don't()*,)>mul(678,155)]:why()whdo()o()@/how():@mul(327,946)!#when()+mul(484,853)!+?\"\"\"\n",
    "\n",
    "remove_unenabled_muls(test_str)"
   ]
  },
  {
   "cell_type": "code",
   "execution_count": 76,
   "id": "fd7ada7c-8579-44d3-8376-797000840636",
   "metadata": {},
   "outputs": [
    {
     "data": {
      "text/plain": [
       "88399954"
      ]
     },
     "execution_count": 76,
     "metadata": {},
     "output_type": "execute_result"
    }
   ],
   "source": [
    "get_enabled_products(data)"
   ]
  },
  {
   "cell_type": "code",
   "execution_count": null,
   "id": "fd8e113c-00d3-4fe1-a966-18a72efc71de",
   "metadata": {},
   "outputs": [],
   "source": []
  }
 ],
 "metadata": {
  "kernelspec": {
   "display_name": "Python 3 (ipykernel)",
   "language": "python",
   "name": "python3"
  },
  "language_info": {
   "codemirror_mode": {
    "name": "ipython",
    "version": 3
   },
   "file_extension": ".py",
   "mimetype": "text/x-python",
   "name": "python",
   "nbconvert_exporter": "python",
   "pygments_lexer": "ipython3",
   "version": "3.13.2"
  }
 },
 "nbformat": 4,
 "nbformat_minor": 5
}
