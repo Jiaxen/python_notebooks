{
 "cells": [
  {
   "cell_type": "markdown",
   "id": "e85786d6-b3b1-4104-860a-ecee9a58fac7",
   "metadata": {},
   "source": [
    "# AoC 2024 Day 4\n",
    "https://adventofcode.com/2024/day/4"
   ]
  },
  {
   "cell_type": "code",
   "execution_count": 45,
   "id": "e3b09807-bdcc-43b4-ab0f-1d4a3dde5f4b",
   "metadata": {},
   "outputs": [],
   "source": [
    "from collections.abc import Callable"
   ]
  },
  {
   "cell_type": "code",
   "execution_count": 46,
   "id": "03e0540b-ce47-45bc-b5b6-cc697e2e0220",
   "metadata": {},
   "outputs": [],
   "source": [
    "with open('data/day4.txt') as f:\n",
    "    data = f.read()\n",
    "data = data.split('\\n')"
   ]
  },
  {
   "cell_type": "code",
   "execution_count": 47,
   "id": "50bb057e-bf60-4412-9399-1f8b02506617",
   "metadata": {},
   "outputs": [
    {
     "data": {
      "text/plain": [
       "['XXXMMSAMXXMASXASAMMSMMSAAMXMAXSAXMSXMXSAXMMXXXXMXAXXXMASMMSSSSSMMMSMSMMSMSMSMMSXMXMMSMMMMAMXSMMMMSSXMASXSMAMSMAXMAMXSXAMSSMSSSMXSMSXXXXAXMMM',\n",
       " 'AMSMMASAMXXXXAXMAXAAMSAXXMXAMAMXAMMAMAMMSMSMXXASXSMMSMMSAMAAAMXMAMAAMMMSASXXMASAMXMMMAMXSAMMMAXMMAMAMASAMXASAMMMSAMXMMMAAAAAAAMASMXMSMSMMSAM',\n",
       " 'MAAAMAXXASMMASASMMSSSXAXMXSAMASMSMMSMAXAAAAAMSMMAMXAAAAXAMMMMMASASMSMMAMAMSXMASAMMXASAMXSASMSSMSMSXSMAMXMSXSASAXMAMAAAXMSSMMSMMASAMXSAAAASAS',\n",
       " 'XSMSMSSMXAAMAXMASMXMMMMSAMXXSMSAMXAMSSSSMSMSMAAMAMMXSXMMSMASASXSXSXMAMXXSAMXMASXXASMSASMSAMAXMAAXMAMMSMSXMXSXMASXXSXMXSAMXMAMAMXSASAMXMMMSXM',\n",
       " 'XXSXXAAXSSSMSSXMMMAXMASMMMMXMAMMMMXXAMAXAAAAMMMMASAAXASAXMASASXSASASXMAMAASMSAMAMXSMSAMXMAMMMMXMSMMMAMXMAMAMAMSSXMAMMSAMXAMMMAMASAMMSASAMXAA']"
      ]
     },
     "execution_count": 47,
     "metadata": {},
     "output_type": "execute_result"
    }
   ],
   "source": [
    "data[:5]"
   ]
  },
  {
   "cell_type": "markdown",
   "id": "80004329-9336-45c6-87a8-5fe95b396e51",
   "metadata": {},
   "source": [
    "### Part 1"
   ]
  },
  {
   "cell_type": "code",
   "execution_count": 52,
   "id": "e71b3270-7aaa-4049-93ff-df33e90d16b1",
   "metadata": {},
   "outputs": [
    {
     "data": {
      "text/plain": [
       "2344"
      ]
     },
     "execution_count": 52,
     "metadata": {},
     "output_type": "execute_result"
    }
   ],
   "source": [
    "search_directions = ((1,0), (1,1), (0,1), (-1,1), (-1,0), (-1,-1), (0,-1), (1,-1))\n",
    "\n",
    "def word_search(data: list[str], string: str, search_query: Callable) -> int:\n",
    "    \"\"\"For each position in data, perform the callback search query and sum the responses\"\"\"\n",
    "    total = 0\n",
    "    for r in range(len(data)):\n",
    "        for c in range(len(data[0])):\n",
    "            total += search_query(data,r,c,string)\n",
    "    return total\n",
    "\n",
    "def in_box(r: int, c: int, data: list[str]) -> bool:\n",
    "    \"\"\"Is the position (r,c) inside the the data index\"\"\"\n",
    "    rows = len(data)\n",
    "    cols = len(data[0])\n",
    "    return 0 <= r < rows and 0 <= c < cols \n",
    "\n",
    "def search_position(data: list[str], r: int, c: int, string: str) -> int:\n",
    "    \"\"\"At a position, evaluate if any of the 8 directions spell out the input string\"\"\"\n",
    "    total = 0\n",
    "    for rstep, cstep in search_directions:\n",
    "        letter_positions = tuple((r+i*rstep, c+i*cstep) for i in range(len(string)))\n",
    "        if any(not in_box(r_n, c_n, data) for r_n, c_n in letter_positions):\n",
    "            continue\n",
    "        if string == ''.join(data[r_n][c_n] for r_n, c_n in letter_positions):\n",
    "            total += 1\n",
    "    return total\n",
    "\n",
    "\n",
    "word_search(data, \"XMAS\", search_position)"
   ]
  },
  {
   "cell_type": "markdown",
   "id": "7fc1bb5a-327d-408a-802b-5846426b1bf6",
   "metadata": {},
   "source": [
    "### Part 2"
   ]
  },
  {
   "cell_type": "code",
   "execution_count": 51,
   "id": "decf78da-9951-483c-9322-eee3003d3a4a",
   "metadata": {},
   "outputs": [
    {
     "data": {
      "text/plain": [
       "1815"
      ]
     },
     "execution_count": 51,
     "metadata": {},
     "output_type": "execute_result"
    }
   ],
   "source": [
    "x_search_directions = (((-1, -1), (0, 0), (1, 1)), \n",
    "                     ((-1, 1), (0, 0), (1, -1)))\n",
    "\n",
    "def search_position_x(data: list[str], r: int, c: int, string: str) -> int:\n",
    "    \"\"\"At a position, evaluate if the neighbouring \"X\" directions both spell our the input string\"\"\"\n",
    "    total = 0\n",
    "    for directions in x_search_directions:\n",
    "        letter_positions = tuple((r+rn, c+cn) for rn, cn in directions)\n",
    "        if any(not in_box(r_n, c_n, data) for r_n, c_n in letter_positions):\n",
    "            return 0\n",
    "        check_word = ''.join(data[r_n][c_n] for r_n, c_n in letter_positions)\n",
    "        if not (check_word == string or check_word[::-1] == string):\n",
    "            return 0\n",
    "    return 1\n",
    "\n",
    "word_search(data, \"MAS\", search_position_x)"
   ]
  },
  {
   "cell_type": "code",
   "execution_count": null,
   "id": "9a3883ba-9dbd-4537-84e5-5cf1bd7e102e",
   "metadata": {},
   "outputs": [],
   "source": []
  }
 ],
 "metadata": {
  "kernelspec": {
   "display_name": "Python 3 (ipykernel)",
   "language": "python",
   "name": "python3"
  },
  "language_info": {
   "codemirror_mode": {
    "name": "ipython",
    "version": 3
   },
   "file_extension": ".py",
   "mimetype": "text/x-python",
   "name": "python",
   "nbconvert_exporter": "python",
   "pygments_lexer": "ipython3",
   "version": "3.13.2"
  }
 },
 "nbformat": 4,
 "nbformat_minor": 5
}
