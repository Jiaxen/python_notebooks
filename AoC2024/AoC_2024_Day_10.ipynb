{
 "cells": [
  {
   "cell_type": "markdown",
   "id": "15917f26-1690-49e2-b341-3b8b68a6fb8f",
   "metadata": {},
   "source": [
    "# AoC 2024 Day 10\n",
    "https://adventofcode.com/2024/day/10"
   ]
  },
  {
   "cell_type": "code",
   "execution_count": 44,
   "id": "7e710593-a492-438d-8044-3ca44b523a4f",
   "metadata": {},
   "outputs": [],
   "source": [
    "from collections import deque, defaultdict"
   ]
  },
  {
   "cell_type": "code",
   "execution_count": 45,
   "id": "8f7e4dd5-8371-4226-b78c-ddb03b50f247",
   "metadata": {},
   "outputs": [],
   "source": [
    "with open('data/day10.txt') as f:\n",
    "    data = f.read().splitlines()\n",
    "data = [[int(x) for x in row] for row in data]"
   ]
  },
  {
   "cell_type": "code",
   "execution_count": 53,
   "id": "d8a0a39c-b60d-431f-bc88-d2bdcec73a00",
   "metadata": {},
   "outputs": [
    {
     "name": "stdout",
     "output_type": "stream",
     "text": [
      "Total score: 638\n",
      "Total rating: 1289\n"
     ]
    }
   ],
   "source": [
    "DIRECTIONS = ((1,0), (0,1), (-1,0), (0,-1))\n",
    "PEAK = 9\n",
    "\n",
    "def locate_zeros(data) -> list[tuple[int, int]]:\n",
    "    \"\"\"Returns list of tuple(i,j) locations in the data which contain 0\"\"\"\n",
    "    return [(i,j) for i, row in enumerate(data) for j, val in enumerate(row) if val == 0]\n",
    "\n",
    "def in_box(i, j, rows, cols) -> bool:\n",
    "    \"\"\"Returns boolean of whether (i,j) is in the boundaries of the data\"\"\"\n",
    "    return 0 <= i < rows and 0 <= j < cols\n",
    "\n",
    "def bfs_paths(trailhead, data) -> dict[int]:\n",
    "    \"\"\"\n",
    "    BFS the data from the given trailhead (0) to get to the peaks (9).\n",
    "    Returns a dict[int] that maps the peaks to the number of unique paths to that peak\n",
    "    \"\"\"\n",
    "    queue = deque()\n",
    "    queue.append(trailhead)\n",
    "    peaks = defaultdict(int)\n",
    "    rows = len(data)\n",
    "    cols = len(data[0])\n",
    "    while queue:\n",
    "        i,j = queue.popleft()\n",
    "        current = data[i][j]\n",
    "        if current == PEAK:\n",
    "            peaks[(i,j)] += 1\n",
    "            continue\n",
    "        queue.extend([(i+di,j+dj) for di, dj in DIRECTIONS \n",
    "                      if in_box(i+di, j+dj, rows, cols) \n",
    "                      and data[i+di][j+dj] == current + 1])\n",
    "    return peaks\n",
    "    \n",
    "def calculate_total_score_and_rating(data) -> None:\n",
    "    \"\"\"\n",
    "    Prints out total score (number of peaks reachable from each trailhead) \n",
    "    and rating (total unique paths from trailhead to peak)\n",
    "    \"\"\"\n",
    "    trailheads = locate_zeros(data)\n",
    "    scores = 0\n",
    "    ratings = 0\n",
    "    for trailhead in trailheads:\n",
    "        trailhead_paths = bfs_paths(trailhead, data)\n",
    "        scores += len(trailhead_paths)\n",
    "        ratings += sum(trailhead_paths.values())\n",
    "    print(f\"Total score: {scores}\\nTotal rating: {ratings}\")\n",
    "    return\n",
    "\n",
    "calculate_total_score(data)"
   ]
  },
  {
   "cell_type": "code",
   "execution_count": null,
   "id": "bcd45aec-8847-454b-8af1-faf5a8de308e",
   "metadata": {},
   "outputs": [],
   "source": []
  }
 ],
 "metadata": {
  "kernelspec": {
   "display_name": "Python 3 (ipykernel)",
   "language": "python",
   "name": "python3"
  },
  "language_info": {
   "codemirror_mode": {
    "name": "ipython",
    "version": 3
   },
   "file_extension": ".py",
   "mimetype": "text/x-python",
   "name": "python",
   "nbconvert_exporter": "python",
   "pygments_lexer": "ipython3",
   "version": "3.13.2"
  }
 },
 "nbformat": 4,
 "nbformat_minor": 5
}
