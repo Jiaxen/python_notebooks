{
 "cells": [
  {
   "cell_type": "code",
   "execution_count": 73,
   "id": "f6b14c1f",
   "metadata": {},
   "outputs": [],
   "source": [
    "board = [[\"5\",\"3\",\".\",\".\",\"7\",\".\",\".\",\".\",\".\"],\n",
    "         [\"6\",\".\",\".\",\"1\",\"9\",\"5\",\".\",\".\",\".\"],\n",
    "         [\".\",\"9\",\"8\",\".\",\".\",\".\",\".\",\"6\",\".\"],\n",
    "         [\"8\",\".\",\".\",\".\",\"6\",\".\",\".\",\".\",\"3\"],\n",
    "         [\"4\",\".\",\".\",\"8\",\".\",\"3\",\".\",\".\",\"1\"],\n",
    "         [\"7\",\".\",\".\",\".\",\"2\",\".\",\".\",\".\",\"6\"],\n",
    "         [\".\",\"6\",\".\",\".\",\".\",\".\",\"2\",\"8\",\".\"],\n",
    "         [\".\",\".\",\".\",\"4\",\"1\",\"9\",\".\",\".\",\"5\"],\n",
    "         [\".\",\".\",\".\",\".\",\"8\",\".\",\".\",\"7\",\"9\"]]\n",
    "\n",
    "board_2 = '53..7....6..195....98....6.8...6...34..8.3..17...2...6.6....28....419..5....8..79'\n"
   ]
  },
  {
   "cell_type": "code",
   "execution_count": 74,
   "id": "6501e873-1cf8-4611-a245-daa01c801ede",
   "metadata": {},
   "outputs": [],
   "source": [
    "UNFILLED = \".\"\n",
    "DIGITS = \"123456789\"\n",
    "COLS = \"123456789\"\n",
    "ROWS = \"ABCDEFGHI\"\n",
    "Square = str  # e.g. A1\n",
    "Squares = tuple(row+col for row in ROWS for col in COLS) # Squares in the grid"
   ]
  },
  {
   "cell_type": "code",
   "execution_count": 75,
   "id": "595dff95-d096-4f99-96e4-2ab88ca3b8de",
   "metadata": {},
   "outputs": [],
   "source": [
    "\n",
    "def get_row_peers(square: Square) -> tuple[Square]:\n",
    "    return tuple(square[0]+ col for col in COLS)\n",
    "\n",
    "def get_col_peers(square: Square) -> tuple[Square]:\n",
    "    return tuple(row+square[1] for row in ROWS)\n",
    "\n",
    "def get_section_peers(square) -> tuple[Square]:\n",
    "    col_sec = 3 * (COLS.index(square[1]) // 3)\n",
    "    row_sec = 3 * (ROWS.index(square[0]) // 3)\n",
    "    return tuple(row+col for col in COLS[col_sec:col_sec+3] for row in ROWS[row_sec:row_sec+3])\n",
    "\n",
    "def get_peers(square) -> tuple[Square]:\n",
    "    peers = set()\n",
    "    peers.update(get_row_peers(square))\n",
    "    peers.update(get_col_peers(square))\n",
    "    peers.update(get_section_peers(square))\n",
    "    return tuple(peers)\n",
    "\n",
    "# A1 A2 A3 | A4 A5 A6 | A7 A8 A9\n",
    "# B1 B2 B3 | B4 B5 B6 | B7 B8 B9\n",
    "# C1 C2 C3 | C4 C5 C6 | C7 C8 C9\n",
    "#  _ _ _ _ | _ _ _ _  | _ _ _ _ \n",
    "# D1 D2 D3 | D4 D5 D6 | D7 D8 D9\n",
    "# E1 E2 E3 | E4 E5 E6 | E7 E8 E9\n",
    "# F1 F2 F3 | F4 F5 F6 | F7 F8 F9\n",
    "#  _ _ _ _ | _ _ _ _  | _ _ _ _    \n",
    "# G1 G2 G3 | G4 G5 G6 | G7 G8 G9\n",
    "# H1 H2 H3 | H4 H5 H6 | H7 H8 H9\n",
    "# I1 I2 I3 | I4 I5 I6 | I7 I8 I9    \n"
   ]
  },
  {
   "cell_type": "code",
   "execution_count": 76,
   "id": "a8597319-7c4a-4ae0-a959-5c134104eeb7",
   "metadata": {},
   "outputs": [
    {
     "data": {
      "text/plain": [
       "('D1', 'D2', 'D3', 'D4', 'D5', 'D6', 'D7', 'D8', 'D9')"
      ]
     },
     "execution_count": 76,
     "metadata": {},
     "output_type": "execute_result"
    }
   ],
   "source": [
    "get_row_peers(\"D5\")"
   ]
  },
  {
   "cell_type": "code",
   "execution_count": 77,
   "id": "b7176a1c-e005-42ad-8482-46f46df362be",
   "metadata": {},
   "outputs": [
    {
     "data": {
      "text/plain": [
       "('A8', 'B8', 'C8', 'D8', 'E8', 'F8', 'G8', 'H8', 'I8')"
      ]
     },
     "execution_count": 77,
     "metadata": {},
     "output_type": "execute_result"
    }
   ],
   "source": [
    "get_col_peers(\"E8\")"
   ]
  },
  {
   "cell_type": "code",
   "execution_count": 78,
   "id": "35be896e-440e-4f63-8c72-884a924e9016",
   "metadata": {},
   "outputs": [
    {
     "data": {
      "text/plain": [
       "('G4', 'H4', 'I4', 'G5', 'H5', 'I5', 'G6', 'H6', 'I6')"
      ]
     },
     "execution_count": 78,
     "metadata": {},
     "output_type": "execute_result"
    }
   ],
   "source": [
    "get_section_peers(\"G4\")"
   ]
  },
  {
   "cell_type": "code",
   "execution_count": 79,
   "id": "1a84e2c1-4ff3-4a54-a9e8-1b88ccb3ee6c",
   "metadata": {},
   "outputs": [
    {
     "data": {
      "text/plain": [
       "('H6',\n",
       " 'H2',\n",
       " 'H1',\n",
       " 'H8',\n",
       " 'H7',\n",
       " 'I8',\n",
       " 'G8',\n",
       " 'I7',\n",
       " 'G7',\n",
       " 'I9',\n",
       " 'H5',\n",
       " 'F9',\n",
       " 'B9',\n",
       " 'C9',\n",
       " 'A9',\n",
       " 'E9',\n",
       " 'D9',\n",
       " 'H9',\n",
       " 'H4',\n",
       " 'H3',\n",
       " 'G9')"
      ]
     },
     "execution_count": 79,
     "metadata": {},
     "output_type": "execute_result"
    }
   ],
   "source": [
    "get_peers(\"H9\")"
   ]
  },
  {
   "cell_type": "code",
   "execution_count": 84,
   "id": "8a8fe018",
   "metadata": {},
   "outputs": [
    {
     "name": "stdout",
     "output_type": "stream",
     "text": [
      "5 3 .|. 7 .|. . .\n",
      "6 . .|1 9 5|. . .\n",
      ". 9 8|. . .|. 6 .\n",
      "-----+-----+-----\n",
      "8 . .|. 6 .|. . 3\n",
      "4 . .|8 . 3|. . 1\n",
      "7 . .|. 2 .|. . 6\n",
      "-----+-----+-----\n",
      ". 6 .|. . .|2 8 .\n",
      ". . .|4 1 9|. . 5\n",
      ". . .|. 8 .|. 7 9\n",
      "\n",
      "  5      3     214  |  26     7     2468 | 1498   2149   248  \n",
      "  6     247    247  |  1      9      5   | 3748   234    2478 \n",
      "  21     9      8   |  23     34     24  |54371    6     247  \n",
      "--------------------+--------------------+--------------------\n",
      "  8     215    2159 | 579     6     147  | 5749   2549    3   \n",
      "  4      25    2569 |  8      5      3   |  79     29     1   \n",
      "  7      15    1539 |  9      2      14  | 548     54     6   \n",
      "--------------------+--------------------+--------------------\n",
      " 139     6    594371| 573     3      7   |  2      8      4   \n",
      "  23    278    237  |  4      1      9   |  36     3      5   \n",
      " 213    2154  25431 | 256     8      26  |  16     7      9   \n",
      "\n",
      " 5    3   214 | 26   7   2468|1498 2149  28 \n",
      " 6   247  247 | 1    9    5  |3748  24  278 \n",
      " 21   9    8  | 23   4    2  |1573  6    7  \n",
      "--------------+--------------+--------------\n",
      " 8   215  2159| 7    6    14 |549  2549  3  \n",
      " 4    2    69 | 8    5    3  | 79   9    1  \n",
      " 7    15  153 | 9    2    14 |548   54   6  \n",
      "--------------+--------------+--------------\n",
      " 19   6   159 | 5    3    7  | 2    8    4  \n",
      " 2    78   7  | 4    1    9  | 6    3    5  \n",
      " 13  154  1453| 26   8    6  | 1    7    9  \n",
      "\n",
      " 5   3  214| 6   7   8 | 49 214  2 \n",
      " 6   47  24| 1   9   5 |348  4   8 \n",
      " 1   9   8 | 3   4   2 | 5   6   7 \n",
      "-----------+-----------+-----------\n",
      " 8   15 159| 7   6   14| 4   25  3 \n",
      " 4   2   6 | 8   5   3 | 7   9   1 \n",
      " 7   15 153| 9   2   14| 8   5   6 \n",
      "-----------+-----------+-----------\n",
      " 9   6   1 | 5   3   7 | 2   8   4 \n",
      " 2   8   7 | 4   1   9 | 6   3   5 \n",
      " 3   54  54| 2   8   6 | 1   7   9 \n",
      "\n",
      "5  3  4 |6  7  8 |9  1  2 \n",
      "6  7  2 |1  9  5 |3  4  8 \n",
      "1  9  8 |3  4  2 |5  6  7 \n",
      "--------+--------+--------\n",
      "8  15 59|7  6  1 |4  2  3 \n",
      "4  2  6 |8  5  3 |7  9  1 \n",
      "7  1  3 |9  2  4 |8  5  6 \n",
      "--------+--------+--------\n",
      "9  6  1 |5  3  7 |2  8  4 \n",
      "2  8  7 |4  1  9 |6  3  5 \n",
      "3  54 5 |2  8  6 |1  7  9 \n",
      "\n",
      "5 3 4|6 7 8|9 1 2\n",
      "6 7 2|1 9 5|3 4 8\n",
      "1 9 8|3 4 2|5 6 7\n",
      "-----+-----+-----\n",
      "8 5 9|7 6 1|4 2 3\n",
      "4 2 6|8 5 3|7 9 1\n",
      "7 1 3|9 2 4|8 5 6\n",
      "-----+-----+-----\n",
      "9 6 1|5 3 7|2 8 4\n",
      "2 8 7|4 1 9|6 3 5\n",
      "3 4 5|2 8 6|1 7 9\n",
      "\n"
     ]
    }
   ],
   "source": [
    "\n",
    "class SudokuGrid:\n",
    "    \n",
    "    def __init__(self, data):\n",
    "        self.grid = self._load(data)\n",
    "        \n",
    "    def _new_grid(self):\n",
    "        return {square: None for square in Squares}\n",
    "        \n",
    "    def _load(self, data):\n",
    "        if isinstance(data, list):\n",
    "            return self._load_list(data)\n",
    "        elif isinstance(data, str):\n",
    "            return self._load_str(data)\n",
    "        raise ValueError(\"Input invalid\")\n",
    "\n",
    "    def _load_list(self, list_input):\n",
    "        grid = self._new_grid()\n",
    "        i = 0\n",
    "        for row in list_input:\n",
    "            for val in row:\n",
    "                if val not in DIGITS and val != UNFILLED:\n",
    "                    raise ValueError(f\"Input invalid: {val}\")\n",
    "                if val in DIGITS:\n",
    "                    grid[Squares[i]] =  val\n",
    "                i+=1\n",
    "        return grid\n",
    "\n",
    "    def _load_str(self, str_input):\n",
    "        grid = self._new_grid()\n",
    "        i = 0\n",
    "        for val in str_input:\n",
    "            if val not in DIGITS and val != UNFILLED:\n",
    "                raise ValueError(f\"Input invalid: {val}\")\n",
    "            if val in DIGITS:\n",
    "                grid[Squares[i]] =  val\n",
    "            i+=1\n",
    "        return grid\n",
    "\n",
    "    def get_square_value(self, square: Square):\n",
    "        return self.grid[square]\n",
    "\n",
    "    def set_square_value(self, square: Square, value):\n",
    "        self.grid[square] = value\n",
    "\n",
    "    def calculate_possible_values(self):\n",
    "        for square in Squares:\n",
    "            val = self.get_square_value(square)\n",
    "            if val is not None and len(val) == 1:\n",
    "                continue\n",
    "            peers = get_peers(square)\n",
    "            solved_peer_values = set()\n",
    "            for peer in peers:\n",
    "                peer_val = self.get_square_value(peer)\n",
    "                if peer_val is not None and len(peer_val) == 1:\n",
    "                    solved_peer_values.add(peer_val)\n",
    "            possible = set(DIGITS) - solved_peer_values\n",
    "            self.set_square_value(square, ''.join(possible))\n",
    "            \n",
    "            \n",
    "    def __str__(self):\n",
    "        max_len = max(len(v) for v in self.grid.values() if v)\n",
    "        out = []\n",
    "        for r, row in enumerate(ROWS):\n",
    "            if r != 0 and r % 3 == 0:\n",
    "                out.append(\"+\".join(3*[(3*max_len+2) * \"-\"])+ \"\\n\")\n",
    "            for c, col in enumerate(COLS):\n",
    "                if c != 0 and c % 3 == 0:\n",
    "                    out.append(\"|\")\n",
    "                elif c != 0:\n",
    "                    out.append(\" \")\n",
    "                val = self.grid[row+col] \n",
    "                if val is None:\n",
    "                    val = UNFILLED\n",
    "                out.append(val.center(max_len))\n",
    "            out.append(\"\\n\")\n",
    "        return \"\".join(out)\n",
    "        \n",
    "        \n",
    "grid = SudokuGrid(board_2)\n",
    "print(grid)\n",
    "grid.calculate_possible_values()\n",
    "print(grid)\n",
    "grid.calculate_possible_values()\n",
    "print(grid)\n",
    "grid.calculate_possible_values()\n",
    "print(grid)\n",
    "grid.calculate_possible_values()\n",
    "print(grid)\n",
    "grid.calculate_possible_values()\n",
    "print(grid)"
   ]
  },
  {
   "cell_type": "code",
   "execution_count": null,
   "id": "acbae469",
   "metadata": {},
   "outputs": [],
   "source": []
  }
 ],
 "metadata": {
  "kernelspec": {
   "display_name": "Python 3 (ipykernel)",
   "language": "python",
   "name": "python3"
  },
  "language_info": {
   "codemirror_mode": {
    "name": "ipython",
    "version": 3
   },
   "file_extension": ".py",
   "mimetype": "text/x-python",
   "name": "python",
   "nbconvert_exporter": "python",
   "pygments_lexer": "ipython3",
   "version": "3.13.2"
  }
 },
 "nbformat": 4,
 "nbformat_minor": 5
}
